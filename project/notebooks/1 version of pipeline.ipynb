{
 "cells": [
  {
   "cell_type": "code",
   "execution_count": 1,
   "metadata": {},
   "outputs": [
    {
     "name": "stderr",
     "output_type": "stream",
     "text": [
      "Global seed set to 1\n"
     ]
    }
   ],
   "source": [
    "import os\n",
    "import math\n",
    "import wandb\n",
    "import torch\n",
    "import pandas as pd\n",
    "import torch.nn as nn\n",
    "\n",
    "import straug.blur as blur\n",
    "import straug.warp as warp\n",
    "import straug.noise as noise\n",
    "import straug.camera as camera\n",
    "import straug.process as process\n",
    "import straug.geometry as geometry\n",
    "\n",
    "from PIL import Image\n",
    "from tabulate import tabulate\n",
    "from tqdm.notebook import tqdm\n",
    "from pytorch_lightning import seed_everything\n",
    "from torch.utils.data import Dataset, DataLoader\n",
    "from torchvision import datasets, transforms, models\n",
    "from torchmetrics import CharErrorRate, WordErrorRate\n",
    "\n",
    "seed_everything(1, True)\n",
    "DEVICE = 'cuda:0'"
   ]
  },
  {
   "attachments": {},
   "cell_type": "markdown",
   "metadata": {},
   "source": [
    "# Что из себя представляют данные"
   ]
  },
  {
   "attachments": {},
   "cell_type": "markdown",
   "metadata": {},
   "source": [
    "Сами изображения в двух папках, а их метки в файлах tcv:"
   ]
  },
  {
   "cell_type": "code",
   "execution_count": 2,
   "metadata": {},
   "outputs": [
    {
     "data": {
      "text/plain": [
       "['test', 'test.tsv', 'train', 'train.tsv']"
      ]
     },
     "execution_count": 2,
     "metadata": {},
     "output_type": "execute_result"
    }
   ],
   "source": [
    "os.listdir('./dataset/')"
   ]
  },
  {
   "attachments": {},
   "cell_type": "markdown",
   "metadata": {},
   "source": [
    "# Посмотрим на различия алфавита:"
   ]
  },
  {
   "cell_type": "code",
   "execution_count": 3,
   "metadata": {},
   "outputs": [
    {
     "data": {
      "text/plain": [
       "{'!', '\"', '%', \"'\", '+', ';', '<', '=', '>', '?', '[', ']', 'Ц', 'Щ', '№'}"
      ]
     },
     "execution_count": 3,
     "metadata": {},
     "output_type": "execute_result"
    }
   ],
   "source": [
    "test_df = pd.read_csv('./dataset/test.tsv', delimiter='\\t', names = ['Image name', 'Label'])\n",
    "test_alphabet = set(test_df['Label'].to_string())\n",
    "\n",
    "train_df = pd.read_csv('./dataset/train.tsv', delimiter='\\t', names = ['Image name', 'Label'])\n",
    "train_alphabet = set(train_df['Label'].to_string()) - set('\\n')\n",
    "train_alphabet.difference(test_alphabet)"
   ]
  },
  {
   "attachments": {},
   "cell_type": "markdown",
   "metadata": {},
   "source": [
    "Эта функция нужна для поиска некорректных меток и их редактирования. `set('«»')` - пример некорректных символов, для каждого нежелательного символа можно посмотреть файл, где он содержится и убрать/заменить его. Для каждого неккоректого лейбла в тренировочном наборе вручную исправим все недостатки."
   ]
  },
  {
   "cell_type": "code",
   "execution_count": 4,
   "metadata": {},
   "outputs": [],
   "source": [
    "for i in range(len(train_df['Image name'])):\n",
    "    try:\n",
    "        if len(set('«»') - set(train_df.iloc[i][1])) != len(set('«»')):\n",
    "            print(train_df.iloc[i][0])\n",
    "    except Exception:\n",
    "        print(i)"
   ]
  },
  {
   "attachments": {},
   "cell_type": "markdown",
   "metadata": {},
   "source": [
    "После выполнения функции можно увидеть, что на некоторых картинках не хватает разметки. Дополним эту разметку"
   ]
  },
  {
   "attachments": {},
   "cell_type": "markdown",
   "metadata": {},
   "source": [
    "Также в данных были и ошибочные метки - ссылка, из-за которой добавлялись английские символы, сокращенный знак кавычек >> или <<. Все эти шумы отфильтровались или заменились на корректные символы"
   ]
  },
  {
   "attachments": {},
   "cell_type": "markdown",
   "metadata": {},
   "source": [
    "# Dataset class"
   ]
  },
  {
   "cell_type": "code",
   "execution_count": 5,
   "metadata": {},
   "outputs": [],
   "source": [
    "class HWTDataset(Dataset):\n",
    "    \"\"\"\n",
    "    Class for creating custom image2label dataset from folder\n",
    "\n",
    "    Args:\n",
    "        Dataset (Dataset): Standart torch class for custom datasets\n",
    "    \"\"\"\n",
    "    \n",
    "    \n",
    "    def __init__(self, root_dir: str, label_dir: str, transforms = None):\n",
    "        \n",
    "        super(HWTDataset, self).__init__()\n",
    "        \n",
    "        name_label = pd.read_csv(label_dir, delimiter='\\t', names = ['Image name', 'Label'])\n",
    "        name_label['Image name'] = name_label['Image name'].apply(lambda x: os.path.join(root_dir, x))\n",
    "        self.data = name_label.to_dict('split')['data']\n",
    "        \n",
    "        self.transforms = transforms\n",
    "    \n",
    "    \n",
    "    def __len__(self):\n",
    "        return len(self.data)\n",
    "    \n",
    "        \n",
    "    def __getitem__(self, index: int):\n",
    "        \n",
    "        path, label = self.data[index]\n",
    "        img = Image.open(path).convert('RGB')\n",
    "        \n",
    "        if self.transforms is not None:\n",
    "            img = self.transforms(img)\n",
    "        \n",
    "        if img.shape[0] == 1:\n",
    "            img = img.expand((3, -1, -1))\n",
    "        \n",
    "        return img, label"
   ]
  },
  {
   "attachments": {},
   "cell_type": "markdown",
   "metadata": {},
   "source": [
    "# Decoder class"
   ]
  },
  {
   "cell_type": "code",
   "execution_count": 6,
   "metadata": {},
   "outputs": [],
   "source": [
    "class SymbolCoder:\n",
    "    \"\"\"\n",
    "    Class needs to encode initial text to Tensor\n",
    "    and decode predicted labels to text\n",
    "    \"\"\"\n",
    "    \n",
    "    def __init__(self, alphabet) -> None:\n",
    "        \n",
    "        self.alphabet = alphabet\n",
    "        self.sym2class, self.class2sym = {'' : 0}, {0 : ''}\n",
    "        \n",
    "        for num, alpha in enumerate(sorted(alphabet)):\n",
    "            self.sym2class[alpha] = num + 1\n",
    "            self.class2sym[num + 1] = alpha\n",
    "    \n",
    "    \n",
    "    def encode(self, text):\n",
    "        \"\"\"\n",
    "        This method needs for encoding initial word to Tensor\n",
    "\n",
    "        Args:\n",
    "            text (str): Initial text for encode\n",
    "\n",
    "        Returns:\n",
    "            tuple: First value is a tensor of word(s) classes, second is length(s) of word(s)\n",
    "        \"\"\"\n",
    "        \n",
    "        length = []\n",
    "        result = []\n",
    "        \n",
    "        for word in text:\n",
    "            length.append(len(word))\n",
    "            for alpha in word:\n",
    "                if alpha in self.alphabet: \n",
    "                    result.append(self.sym2class[alpha])\n",
    "                else: result.append(0)\n",
    "        \n",
    "        return (torch.LongTensor(result), torch.LongTensor(length))\n",
    "    \n",
    "    \n",
    "    def decode(self, text, length):\n",
    "        \"\"\"\n",
    "        This method used for decoding prediction classes to text\n",
    "\n",
    "        Args:\n",
    "            text (Tensor): predicted text(s)\n",
    "            length (Tensor): length(s) of prediction text(s)\n",
    "\n",
    "        Returns:\n",
    "            str or list: list type returns when use for batch, for single word returns str\n",
    "        \"\"\"\n",
    "        \n",
    "        #For single word\n",
    "        if length.numel() == 1:\n",
    "            \n",
    "            length = length[0]\n",
    "            word = ''\n",
    "            \n",
    "            for i in range(length):\n",
    "                if text[i] != 0 and not (i > 0 and text[i - 1] == text[i]):\n",
    "                    word  += self.class2sym[text[i].item()]\n",
    "            return word\n",
    "        \n",
    "        #For batch\n",
    "        else:\n",
    "            \n",
    "            words = []\n",
    "            index = 0\n",
    "            \n",
    "            for i in range(length.numel()):\n",
    "                l = length[i]\n",
    "                words.append(\n",
    "                    self.decode(text[index:index + l], torch.IntTensor([l])))\n",
    "                index += l\n",
    "            return words\n",
    "    \n",
    "    \n",
    "    def __len__(self):\n",
    "        return len(self.class2sym)"
   ]
  },
  {
   "attachments": {},
   "cell_type": "markdown",
   "metadata": {},
   "source": [
    "# Augmentations"
   ]
  },
  {
   "cell_type": "code",
   "execution_count": 7,
   "metadata": {},
   "outputs": [],
   "source": [
    "train_transform = transforms.Compose([\n",
    "    #transforms.RandomApply([transforms.RandomChoice([warp.Stretch(), warp.Curve(), warp.Distort(), geometry.Rotate()])], 0.5),\n",
    "    #transforms.RandomApply([transforms.GaussianBlur((3, 3))], 0.3),\n",
    "    #transforms.RandomApply([noise.GaussianNoise()], 0.3),\n",
    "    #transforms.ColorJitter(0.1, 0.5, 0.3, 0.3),\n",
    "    #transforms.RandomApply([warp.Curve()], 0.3),\n",
    "    transforms.RandomApply([transforms.Grayscale(1)], 1),\n",
    "    transforms.Resize((64, 224)),\n",
    "    transforms.ToTensor(),\n",
    "    transforms.Normalize((0.5), (0.5))\n",
    "])\n",
    "\n",
    "test_transform = transforms.Compose([\n",
    "    #transforms.RandomApply([transforms.RandomChoice([warp.Stretch(), warp.Curve(), warp.Distort(), geometry.Rotate()])], 0.5),\n",
    "    #transforms.RandomApply([transforms.GaussianBlur((3, 3))], 0.3),\n",
    "    #transforms.RandomApply([noise.GaussianNoise()], 0.3),\n",
    "    #transforms.ColorJitter(0.1, 0.5, 0.3, 0.3),\n",
    "    #transforms.RandomApply([warp.Curve()], 0.3),\n",
    "    transforms.RandomApply([transforms.Grayscale(1)], 1),\n",
    "    transforms.Resize((64, 224)),\n",
    "    transforms.ToTensor(),\n",
    "    transforms.Normalize((0.5,), (0.5,))\n",
    "])"
   ]
  },
  {
   "attachments": {},
   "cell_type": "markdown",
   "metadata": {},
   "source": [
    "# Load data"
   ]
  },
  {
   "cell_type": "code",
   "execution_count": 8,
   "metadata": {},
   "outputs": [],
   "source": [
    "train_data = HWTDataset('./dataset/train/', './dataset/train.tsv', train_transform)\n",
    "test_data = HWTDataset('./dataset/test/', './dataset/test.tsv', test_transform)"
   ]
  },
  {
   "attachments": {},
   "cell_type": "markdown",
   "metadata": {},
   "source": [
    "# Model 1"
   ]
  },
  {
   "cell_type": "code",
   "execution_count": 9,
   "metadata": {},
   "outputs": [],
   "source": [
    "class RNN1(nn.Module):\n",
    "    \"\"\"\n",
    "    This class use for seq 2 seq prediction\n",
    "    \"\"\"\n",
    "    \n",
    "    def __init__(self, in_len, out_len, n_classes = None,\n",
    "                 bidirectional = True, batch_first = True) -> None:\n",
    "        \n",
    "        super(RNN1, self).__init__()\n",
    "        self.n_classes = n_classes\n",
    "        self.linear = None\n",
    "        \n",
    "        self.rnn = nn.RNN(in_len, out_len, \n",
    "                          bidirectional = bidirectional, \n",
    "                          batch_first = batch_first)\n",
    "        \n",
    "        if self.n_classes:\n",
    "            self.linear = nn.Linear(out_len * [1, 2][bidirectional], n_classes)\n",
    "\n",
    "    \n",
    "    def forward(self, data):\n",
    "        \n",
    "        \"\"\"\n",
    "        N = batch size\n",
    "        L = sequence length\n",
    "        D = 2 if bidirectional=True otherwise 1\n",
    "        H_in = input_size\n",
    "        H_out = hidden_size\n",
    "        \"\"\"\n",
    "        \n",
    "        N, L, H_in = data.shape\n",
    "        \n",
    "        data, _ = self.rnn(data) # [N, L, [1, 2] * n_hidden], 1 if bidir = False, else 2\n",
    "        if self.linear:\n",
    "            data = data.reshape(N * L, -1)\n",
    "            data = self.linear(data)\n",
    "            data = data.reshape(N, L, -1)\n",
    "        \n",
    "        return data"
   ]
  },
  {
   "cell_type": "code",
   "execution_count": 10,
   "metadata": {},
   "outputs": [],
   "source": [
    "class Model1(nn.Module):\n",
    "    \"\"\"\n",
    "    This class use for slicing initial image\n",
    "    \"\"\"\n",
    "    \n",
    "    def __init__(self, len_alphabet) -> None:\n",
    "        super(Model1, self).__init__()\n",
    "        \n",
    "        # In - 3x64x224\n",
    "        self.layer_1 = nn.Sequential()\n",
    "        self.layer_1.add_module('1', nn.Conv2d(3, 8, 3))\n",
    "        self.layer_1.add_module('act', nn.ReLU())\n",
    "        self.layer_1.add_module('2', nn.MaxPool2d(2, (2, 1), 1))\n",
    "        self.layer_1.add_module('3', nn.BatchNorm2d(8))\n",
    "        # Out - 8x32x224\n",
    "        \n",
    "        # In - 8x32x224\n",
    "        self.layer_2 = nn.Sequential()\n",
    "        self.layer_2.add_module('1', nn.Conv2d(8, 64, 3))\n",
    "        self.layer_2.add_module('act', nn.ReLU())\n",
    "        self.layer_2.add_module('2', nn.MaxPool2d(2, 2, 1))\n",
    "        self.layer_2.add_module('3', nn.BatchNorm2d(64))\n",
    "        # Out - 64x16x224\n",
    "        \n",
    "        # In - 64x16x112\n",
    "        self.layer_3 = nn.Sequential()\n",
    "        self.layer_3.add_module('1', nn.Conv2d(64, 256, 3))\n",
    "        self.layer_3.add_module('act', nn.ReLU())\n",
    "        self.layer_3.add_module('2', nn.MaxPool2d(2, 2))\n",
    "        self.layer_3.add_module('3', nn.BatchNorm2d(256))\n",
    "        # Out - 256x8x56\n",
    "        \n",
    "        # In - 256x8x56\n",
    "        self.layer_4 = nn.Sequential()\n",
    "        self.layer_4.add_module('1', nn.Conv2d(256, 512, 3))\n",
    "        self.layer_4.add_module('act', nn.ReLU())\n",
    "        self.layer_4.add_module('2', nn.MaxPool2d(2, 2))\n",
    "        self.layer_4.add_module('3', nn.BatchNorm2d(512))\n",
    "        # Out - 512x2x28\n",
    "\n",
    "        self.rnn_layers = nn.Sequential(\n",
    "            RNN1(2*512, 256, bidirectional=True, batch_first=True),\n",
    "            RNN1(512, 256, len_alphabet + 1, bidirectional=True, batch_first=True)\n",
    "        )\n",
    "        \n",
    "    \n",
    "    def forward(self, data):\n",
    "        data = self.layer_1(data)\n",
    "        data = self.layer_2(data)\n",
    "        data = self.layer_3(data)\n",
    "        data = self.layer_4(data)\n",
    "        # bs, c, h, w\n",
    "        \n",
    "        bs, c, h, w = data.shape\n",
    "        \n",
    "        \"\"\"\n",
    "        N = batch size\n",
    "        L = sequence length\n",
    "        D = 2 if bidirectional=True otherwise 1\n",
    "        H_in = input_size\n",
    "        H_out = hidden_size\n",
    "        \"\"\"\n",
    "        \n",
    "        data = data.permute(0, 3, 1, 2).reshape(bs, w, c * h) # bs, w, h * c equal to N, L, H\n",
    "        data = self.rnn_layers(data) # N, L, len_alphabet\n",
    "        data = data.permute(1, 0, 2) # L, N, len_alphabet\n",
    "        \n",
    "        prob = torch.nn.functional.log_softmax(data, 2)\n",
    "        \n",
    "        return prob"
   ]
  },
  {
   "attachments": {},
   "cell_type": "markdown",
   "metadata": {},
   "source": [
    "# Model 2"
   ]
  },
  {
   "cell_type": "code",
   "execution_count": 11,
   "metadata": {},
   "outputs": [],
   "source": [
    "class RNN2(nn.Module):\n",
    "    \"\"\"\n",
    "    This class use for seq 2 seq prediction\n",
    "    \"\"\"\n",
    "    \n",
    "    def __init__(self, in_len, out_len, n_classes = None,\n",
    "                 bidirectional = True, batch_first = True) -> None:\n",
    "        \n",
    "        super(RNN2, self).__init__()\n",
    "        self.n_classes = n_classes\n",
    "        self.linear = None\n",
    "        \n",
    "        self.rnn = nn.RNN(in_len, out_len, \n",
    "                          bidirectional = bidirectional, \n",
    "                          batch_first = batch_first)\n",
    "        \n",
    "        if self.n_classes:\n",
    "            self.linear = nn.Linear(out_len * [1, 2][bidirectional], n_classes)\n",
    "\n",
    "    \n",
    "    def forward(self, data):\n",
    "        \n",
    "        \"\"\"\n",
    "        N = batch size\n",
    "        L = sequence length\n",
    "        D = 2 if bidirectional=True otherwise 1\n",
    "        H_in = input_size\n",
    "        H_out = hidden_size\n",
    "        \"\"\"\n",
    "        \n",
    "        N, L, H_in = data.shape\n",
    "        \n",
    "        data, _ = self.rnn(data) # [N, L, [1, 2] * n_hidden], 1 if bidir = False, else 2\n",
    "        if self.linear:\n",
    "            data = data.reshape(N * L, -1)\n",
    "            data = self.linear(data)\n",
    "            data = data.reshape(N, L, -1)\n",
    "        \n",
    "        return data"
   ]
  },
  {
   "cell_type": "code",
   "execution_count": 12,
   "metadata": {},
   "outputs": [],
   "source": [
    "class Model2(nn.Module):\n",
    "    \"\"\"\n",
    "    This class use for slicing initial image\n",
    "    \"\"\"\n",
    "    \n",
    "    def __init__(self, len_alphabet) -> None:\n",
    "        super(Model2, self).__init__()\n",
    "        \n",
    "        # In - 3x64x224\n",
    "        self.layer_1 = nn.Sequential()\n",
    "        self.layer_1.add_module('1', nn.Conv2d(3, 64, 3, padding=1))\n",
    "        self.layer_1.add_module('2', nn.BatchNorm2d(64))\n",
    "        self.layer_1.add_module('3', nn.LeakyReLU())\n",
    "        # Out - 8x32x224\n",
    "        \n",
    "        # In - 8x32x224\n",
    "        self.layer_2 = nn.Sequential()\n",
    "        self.layer_2.add_module('1', nn.Conv2d(64, 128, 3, padding=1))\n",
    "        self.layer_2.add_module('2', nn.BatchNorm2d(128))\n",
    "        self.layer_2.add_module('3', nn.LeakyReLU())\n",
    "        self.layer_2.add_module('4', nn.MaxPool2d(2, 2))\n",
    "        # Out - 64x16x224\n",
    "        \n",
    "        # In - 64x16x112\n",
    "        self.layer_3 = nn.Sequential()\n",
    "        self.layer_3.add_module('1', nn.Conv2d(128, 256, 3, padding=1))\n",
    "        self.layer_3.add_module('2', nn.BatchNorm2d(256))\n",
    "        self.layer_3.add_module('3', nn.LeakyReLU())\n",
    "        # Out - 256x8x56\n",
    "        \n",
    "        # In - 64x16x112\n",
    "        self.layer_4 = nn.Sequential()\n",
    "        self.layer_4.add_module('1', nn.Conv2d(256, 256, 3, padding=1))\n",
    "        self.layer_4.add_module('2', nn.BatchNorm2d(256))\n",
    "        self.layer_4.add_module('3', nn.LeakyReLU())\n",
    "        self.layer_4.add_module('4', nn.MaxPool2d(2, 2))\n",
    "        # Out - 256x8x56\n",
    "        \n",
    "        # In - 256x8x56\n",
    "        self.layer_5 = nn.Sequential()\n",
    "        self.layer_5.add_module('1', nn.Conv2d(256, 512, 3, padding=1))\n",
    "        self.layer_5.add_module('2', nn.BatchNorm2d(512))\n",
    "        self.layer_5.add_module('3', nn.LeakyReLU())\n",
    "        # Out - 512x2x28\n",
    "        \n",
    "        # In - 256x8x56\n",
    "        self.layer_6 = nn.Sequential()\n",
    "        self.layer_6.add_module('1', nn.Conv2d(512, 512, 3, padding=1))\n",
    "        self.layer_6.add_module('2', nn.BatchNorm2d(512))\n",
    "        self.layer_6.add_module('3', nn.LeakyReLU())\n",
    "        self.layer_6.add_module('4', nn.MaxPool2d(2, 2))\n",
    "        # Out - 512x2x28\n",
    "        \n",
    "        # In - 256x8x56\n",
    "        self.layer_7 = nn.Sequential()\n",
    "        self.layer_7.add_module('1', nn.Conv2d(512, 512, 3, padding=1))\n",
    "        self.layer_7.add_module('2', nn.BatchNorm2d(512))\n",
    "        self.layer_7.add_module('3', nn.LeakyReLU())\n",
    "        # Out - 512x2x28\n",
    "\n",
    "        self.rnn_layers = nn.Sequential(\n",
    "            RNN2(8*512, 512, bidirectional=True, batch_first=True),\n",
    "            RNN2(2*512, 128, len_alphabet + 1, bidirectional=True, batch_first=True)\n",
    "        )\n",
    "        \n",
    "    \n",
    "    def forward(self, data):\n",
    "        data = self.layer_1(data)\n",
    "        data = self.layer_2(data)\n",
    "        data = self.layer_3(data)\n",
    "        data = self.layer_4(data)\n",
    "        data = self.layer_5(data)\n",
    "        data = self.layer_6(data)\n",
    "        data = self.layer_7(data)\n",
    "        # bs, c, h, w\n",
    "        \n",
    "        bs, c, h, w = data.shape\n",
    "        \n",
    "        \"\"\"\n",
    "        N = batch size\n",
    "        L = sequence length\n",
    "        D = 2 if bidirectional=True otherwise 1\n",
    "        H_in = input_size\n",
    "        H_out = hidden_size\n",
    "        \"\"\"\n",
    "        \n",
    "        data = data.permute(0, 3, 1, 2).reshape(bs, w, c * h) # bs, w, h * c equal to N, L, H\n",
    "        data = self.rnn_layers(data) # N, L, len_alphabet\n",
    "        data = data.permute(1, 0, 2) # L, N, len_alphabet\n",
    "        \n",
    "        prob = torch.nn.functional.log_softmax(data, 2)\n",
    "        \n",
    "        return prob"
   ]
  },
  {
   "attachments": {},
   "cell_type": "markdown",
   "metadata": {},
   "source": [
    "# Pretty info output"
   ]
  },
  {
   "cell_type": "code",
   "execution_count": 13,
   "metadata": {},
   "outputs": [],
   "source": [
    "def print_epoch_data(epoch, mean_loss, char_error, word_error, zero_out_losses):\n",
    "    \n",
    "    print(tabulate([['epoch', 'mean loss', 'mean cer', 'mean wer', 'zero loss warnings'],\n",
    "                    [epoch, round(mean_loss, 4), round(char_error, 4),\n",
    "                    round(word_error, 4), zero_out_losses]],\n",
    "                   headers='firstrow', tablefmt='fancy_grid'))"
   ]
  },
  {
   "attachments": {},
   "cell_type": "markdown",
   "metadata": {},
   "source": [
    "# Train functions"
   ]
  },
  {
   "attachments": {},
   "cell_type": "markdown",
   "metadata": {},
   "source": [
    "### Saving model and logging statistics"
   ]
  },
  {
   "cell_type": "code",
   "execution_count": 14,
   "metadata": {},
   "outputs": [],
   "source": [
    "def print_save_stat(outputs, epoch, model, scheduler, model_name, zero_out):\n",
    "    \n",
    "    if len(outputs) == 0:\n",
    "        print('ERROR: bad loss')\n",
    "        raise Exception\n",
    "        \n",
    "    output = torch.Tensor(outputs)\n",
    "    mean_loss = output[:, 0].mean()\n",
    "    char_error = output[:, 1].mean()\n",
    "    word_error = output[:, 2].mean()\n",
    "    print_epoch_data(epoch, mean_loss.item(), char_error.item(), word_error.item(), zero_out)\n",
    "    \n",
    "    wandb.log({'loss': mean_loss.item(),\n",
    "               'CER': char_error.item(),\n",
    "               'WER': word_error.item(),\n",
    "               'Learn Rate': scheduler.get_last_lr()[-1]})\n",
    "    \n",
    "    if char_error < 0.1:\n",
    "        torch.save(model.state_dict(), f'./{model_name}_L-{round(mean_loss.item(), 4)}_CER-{round(char_error.item(), 4)}.pth')"
   ]
  },
  {
   "attachments": {},
   "cell_type": "markdown",
   "metadata": {},
   "source": [
    "### Train"
   ]
  },
  {
   "cell_type": "code",
   "execution_count": 15,
   "metadata": {},
   "outputs": [],
   "source": [
    "def train(model, optimizer, scheduler, dataloader, lossfunc, epochs, model_name):\n",
    "    \n",
    "    model.train()\n",
    "    wandb.watch(model, lossfunc, log='all', log_freq=100)\n",
    "    coder = SymbolCoder(train_alphabet)\n",
    "    CER = CharErrorRate()\n",
    "    WER = WordErrorRate()\n",
    "    \n",
    "    for epoch in tqdm(range(epochs), total=epochs):\n",
    "        \n",
    "        zero_out_losses = 0\n",
    "        outputs = []\n",
    "        \n",
    "        for batch_nb, (data, targets) in tqdm(enumerate(dataloader), total=len(dataloader)):\n",
    "            \n",
    "            optimizer.zero_grad()\n",
    "            \n",
    "            classes, lengths = coder.encode(targets)\n",
    "            \n",
    "            data = data.to(DEVICE)\n",
    "            classes = classes.to(DEVICE)\n",
    "            length = lengths.to(DEVICE)\n",
    "            \n",
    "            logits = model(data)\n",
    "            logits = logits.contiguous().cpu()\n",
    "            T, N, C = logits.size()\n",
    "            pred_sizes = torch.LongTensor([T for i in range(N)]).to(DEVICE)\n",
    "            classes = classes.view(-1).contiguous()\n",
    "            loss = lossfunc(logits, classes, pred_sizes, lengths)\n",
    "            \n",
    "            if (torch.zeros(loss.size()) == loss).all():\n",
    "                zero_out_losses += 1\n",
    "                continue\n",
    "            \n",
    "            probs, preds = logits.max(2)\n",
    "            preds = preds.transpose(1, 0).contiguous().view(-1)\n",
    "            sim_preds = coder.decode(preds.data, pred_sizes.data)\n",
    "            \n",
    "            cer = CER(sim_preds, targets)\n",
    "            wer = WER(sim_preds, targets)\n",
    "            \n",
    "            loss.backward()\n",
    "            optimizer.step()\n",
    "            scheduler.step()\n",
    "            output = [abs(loss.item()), cer, wer]\n",
    "            outputs.append(output)\n",
    "        \n",
    "        print_save_stat(outputs, epoch, model, scheduler, model_name, zero_out_losses)"
   ]
  },
  {
   "attachments": {},
   "cell_type": "markdown",
   "metadata": {},
   "source": [
    "# Config"
   ]
  },
  {
   "attachments": {},
   "cell_type": "markdown",
   "metadata": {},
   "source": [
    "### Wandb"
   ]
  },
  {
   "cell_type": "code",
   "execution_count": 16,
   "metadata": {},
   "outputs": [
    {
     "name": "stderr",
     "output_type": "stream",
     "text": [
      "Failed to detect the name of this notebook, you can set it manually with the WANDB_NOTEBOOK_NAME environment variable to enable code saving.\n",
      "\u001b[34m\u001b[1mwandb\u001b[0m: Currently logged in as: \u001b[33mkozlovmihail02\u001b[0m. Use \u001b[1m`wandb login --relogin`\u001b[0m to force relogin\n"
     ]
    },
    {
     "data": {
      "application/vnd.jupyter.widget-view+json": {
       "model_id": "ceabcd1cf9c043b3912fbeb7c4ab928f",
       "version_major": 2,
       "version_minor": 0
      },
      "text/plain": [
       "VBox(children=(Label(value='Waiting for wandb.init()...\\r'), FloatProgress(value=0.016916666666899498, max=1.0…"
      ]
     },
     "metadata": {},
     "output_type": "display_data"
    },
    {
     "data": {
      "text/html": [
       "Tracking run with wandb version 0.13.7"
      ],
      "text/plain": [
       "<IPython.core.display.HTML object>"
      ]
     },
     "metadata": {},
     "output_type": "display_data"
    },
    {
     "data": {
      "text/html": [
       "Run data is saved locally in <code>c:\\Users\\kozlo\\Desktop\\Учеба\\Задания\\Курсы\\ML-courses\\Курсы мирэа\\Дз\\project\\wandb\\run-20230103_231505-kp6uaqg9</code>"
      ],
      "text/plain": [
       "<IPython.core.display.HTML object>"
      ]
     },
     "metadata": {},
     "output_type": "display_data"
    },
    {
     "data": {
      "text/html": [
       "Syncing run <strong><a href=\"https://wandb.ai/kozlovmihail02/Handwritten%20text%20recognition/runs/kp6uaqg9\" target=\"_blank\">treasured-surf-1</a></strong> to <a href=\"https://wandb.ai/kozlovmihail02/Handwritten%20text%20recognition\" target=\"_blank\">Weights & Biases</a> (<a href=\"https://wandb.me/run\" target=\"_blank\">docs</a>)<br/>"
      ],
      "text/plain": [
       "<IPython.core.display.HTML object>"
      ]
     },
     "metadata": {},
     "output_type": "display_data"
    },
    {
     "data": {
      "text/html": [
       "<button onClick=\"this.nextSibling.style.display='block';this.style.display='none';\">Display W&B run</button><iframe src=\"https://wandb.ai/kozlovmihail02/Handwritten%20text%20recognition/runs/kp6uaqg9?jupyter=true\" style=\"border:none;width:100%;height:420px;display:none;\"></iframe>"
      ],
      "text/plain": [
       "<wandb.sdk.wandb_run.Run at 0x28c8dce8df0>"
      ]
     },
     "execution_count": 16,
     "metadata": {},
     "output_type": "execute_result"
    }
   ],
   "source": [
    "wandb.init(\n",
    "    project=\"Handwritten text recognition\",\n",
    "    config={\n",
    "        \"Model type\": 'Model 2',\n",
    "        \"architecture\": \"RCNN\",\n",
    "        \"dataset\": \"Handwritten Cyrillic dataset\",\n",
    "        \"epochs\": 30,\n",
    "    }\n",
    ")"
   ]
  },
  {
   "attachments": {},
   "cell_type": "markdown",
   "metadata": {},
   "source": [
    "### Model"
   ]
  },
  {
   "cell_type": "code",
   "execution_count": 16,
   "metadata": {},
   "outputs": [],
   "source": [
    "ctc_loss = torch.nn.CTCLoss(reduction='mean', zero_infinity=True)\n",
    "model = Model2(len(train_alphabet))\n",
    "model = model.to(DEVICE)\n",
    "optimizer = torch.optim.Adam(model.parameters(), lr=0.0003)\n",
    "dataloader = DataLoader(train_data, 8, True) # Если ставить батч 16, то лосс не падает\n",
    "scheduler = torch.optim.lr_scheduler.StepLR(optimizer, 10, 0.1)"
   ]
  },
  {
   "cell_type": "code",
   "execution_count": null,
   "metadata": {},
   "outputs": [],
   "source": [
    "wandb.init(\n",
    "    id='35odcpyv',\n",
    "    project=\"Handwritten text recognition\",\n",
    "    resume='must'\n",
    ")"
   ]
  },
  {
   "cell_type": "code",
   "execution_count": null,
   "metadata": {},
   "outputs": [],
   "source": [
    "train(model, optimizer, scheduler, dataloader, ctc_loss, 20, 'M2_T1')"
   ]
  },
  {
   "attachments": {},
   "cell_type": "markdown",
   "metadata": {},
   "source": [
    "# Prediction stage"
   ]
  },
  {
   "attachments": {},
   "cell_type": "markdown",
   "metadata": {},
   "source": [
    "### Word correction based on external dictionary"
   ]
  },
  {
   "cell_type": "code",
   "execution_count": 81,
   "metadata": {},
   "outputs": [],
   "source": [
    "def word_correction(predictions):\n",
    "    \n",
    "    import enchant\n",
    "    \n",
    "    CER = CharErrorRate()\n",
    "    correct_predictions = []\n",
    "    dictionary = enchant.Dict(\"ru_RU\")\n",
    "    \n",
    "    for word in tqdm(predictions, total=len(predictions)):\n",
    "\n",
    "        words = word.split()\n",
    "        result = ''\n",
    "\n",
    "        for word in words:\n",
    "            if word.isalpha():\n",
    "                \n",
    "                sim = dict()\n",
    "                \n",
    "                if dictionary.check(word):\n",
    "                    result += word + ' '\n",
    "                    continue\n",
    "                \n",
    "                suggestions = set(dictionary.suggest(word))\n",
    "\n",
    "                for suggest in suggestions:\n",
    "                    if ' ' not in suggest:\n",
    "                        measure = CER(suggest, word)\n",
    "                        sim[measure] = suggest\n",
    "                if len(sim.keys()) > 0: \n",
    "                    result += sim[min(sim.keys())] + ' '\n",
    "                    continue\n",
    "            result += word + ' '\n",
    "\n",
    "        correct_predictions.append(result[:-1])\n",
    "    return correct_predictions"
   ]
  },
  {
   "attachments": {},
   "cell_type": "markdown",
   "metadata": {},
   "source": [
    "### Counting statistics about incorrect symbol predictoin"
   ]
  },
  {
   "cell_type": "code",
   "execution_count": 76,
   "metadata": {},
   "outputs": [],
   "source": [
    "def errors_sym_stat(preds, targets):\n",
    "    \n",
    "    sym_er = {}\n",
    "    \n",
    "    for pred, true in zip(preds, targets):\n",
    "        if len(true) == len(pred) and true != pred:\n",
    "            for i, j in zip(pred, true):\n",
    "                if i != j: \n",
    "                    if j in sym_er.keys(): \n",
    "                        if i in sym_er[j].keys():\n",
    "                            sym_er[j][i] += 1\n",
    "                        else: sym_er[j][i] = 1\n",
    "                    else: sym_er[j] = {i : 1}\n",
    "    return sym_er"
   ]
  },
  {
   "attachments": {},
   "cell_type": "markdown",
   "metadata": {},
   "source": [
    "### Model eval"
   ]
  },
  {
   "cell_type": "code",
   "execution_count": 77,
   "metadata": {},
   "outputs": [],
   "source": [
    "def evaluate(model, correcting = False, count_err_stat = False):\n",
    "    \n",
    "    model = model.eval()\n",
    "    CER = CharErrorRate()\n",
    "    WER = WordErrorRate()\n",
    "    coder = SymbolCoder(train_alphabet)\n",
    "    loader = torch.utils.data.DataLoader(test_data, batch_size = 8)\n",
    "    labels, predictions = [], []\n",
    "    \n",
    "    for iteration, batch in enumerate(tqdm(loader)):\n",
    "        input_, targets = batch[0].to(DEVICE), batch[1]\n",
    "        labels.extend(targets)\n",
    "        logits = model(input_)\n",
    "        logits = logits.contiguous().cpu()\n",
    "        T, B, H = logits.size()\n",
    "        pred_sizes = torch.LongTensor([T for i in range(B)])\n",
    "        probs, pos = logits.max(2)\n",
    "        pos = pos.transpose(1, 0).contiguous().view(-1)\n",
    "        sim_preds = coder.decode(pos.data, pred_sizes.data)\n",
    "        predictions.extend(sim_preds)\n",
    "    \n",
    "    if correcting: predictions = word_correction(predictions)\n",
    "    \n",
    "    char_error = CER(predictions, labels)\n",
    "    word_error = WER(predictions, labels)\n",
    "    print({'char_error' : char_error, 'word_error' : word_error})\n",
    "    \n",
    "    if count_err_stat: return errors_sym_stat(predictions, labels)"
   ]
  },
  {
   "cell_type": "code",
   "execution_count": 20,
   "metadata": {},
   "outputs": [
    {
     "data": {
      "text/plain": [
       "<All keys matched successfully>"
      ]
     },
     "execution_count": 20,
     "metadata": {},
     "output_type": "execute_result"
    }
   ],
   "source": [
    "model.load_state_dict(torch.load('./M2_T1_L-0.0489_CER-0.0141.pth'))"
   ]
  },
  {
   "attachments": {},
   "cell_type": "markdown",
   "metadata": {},
   "source": [
    "Обычный тест, без коррекции слов"
   ]
  },
  {
   "cell_type": "code",
   "execution_count": 21,
   "metadata": {},
   "outputs": [
    {
     "data": {
      "application/vnd.jupyter.widget-view+json": {
       "model_id": "dbe1a8d9bdbc42b78973abd8e5591019",
       "version_major": 2,
       "version_minor": 0
      },
      "text/plain": [
       "  0%|          | 0/193 [00:00<?, ?it/s]"
      ]
     },
     "metadata": {},
     "output_type": "display_data"
    },
    {
     "name": "stdout",
     "output_type": "stream",
     "text": [
      "{'char_error': tensor(0.2045), 'word_error': tensor(0.6889)}\n"
     ]
    }
   ],
   "source": [
    "evaluate(model)"
   ]
  },
  {
   "attachments": {},
   "cell_type": "markdown",
   "metadata": {},
   "source": [
    "С проверкой орфографии слов"
   ]
  },
  {
   "cell_type": "code",
   "execution_count": 22,
   "metadata": {},
   "outputs": [
    {
     "data": {
      "application/vnd.jupyter.widget-view+json": {
       "model_id": "64597b5d88fd4086a49b5b14986fee05",
       "version_major": 2,
       "version_minor": 0
      },
      "text/plain": [
       "  0%|          | 0/193 [00:00<?, ?it/s]"
      ]
     },
     "metadata": {},
     "output_type": "display_data"
    },
    {
     "data": {
      "application/vnd.jupyter.widget-view+json": {
       "model_id": "6628fae0b7be4a438953cef677e4896e",
       "version_major": 2,
       "version_minor": 0
      },
      "text/plain": [
       "  0%|          | 0/1544 [00:00<?, ?it/s]"
      ]
     },
     "metadata": {},
     "output_type": "display_data"
    },
    {
     "name": "stdout",
     "output_type": "stream",
     "text": [
      "{'char_error': tensor(0.2196), 'word_error': tensor(0.5647)}\n"
     ]
    }
   ],
   "source": [
    "evaluate(model, correcting=True)"
   ]
  },
  {
   "attachments": {},
   "cell_type": "markdown",
   "metadata": {},
   "source": [
    "Видно, что CER немного поднялся, однако качество определения слов возросло на 12%"
   ]
  },
  {
   "attachments": {},
   "cell_type": "markdown",
   "metadata": {},
   "source": [
    "Посмотрим какие символы чаще путает наша модель. На основе этой статистики возможно реализовать замену вероятных ошибочных символов и искать ближайшее совпадение в словаре (с учетом того, что в нашем тексте нет требований к сохранению четкой орфографии писавшего человека)"
   ]
  },
  {
   "cell_type": "code",
   "execution_count": 23,
   "metadata": {},
   "outputs": [
    {
     "data": {
      "application/vnd.jupyter.widget-view+json": {
       "model_id": "4eb751b468544ca1943cf9e8e42c2de9",
       "version_major": 2,
       "version_minor": 0
      },
      "text/plain": [
       "  0%|          | 0/193 [00:00<?, ?it/s]"
      ]
     },
     "metadata": {},
     "output_type": "display_data"
    },
    {
     "name": "stdout",
     "output_type": "stream",
     "text": [
      "{'char_error': tensor(0.2045), 'word_error': tensor(0.6889)}\n"
     ]
    },
    {
     "data": {
      "text/plain": [
       "{'я': {'е': 11},\n",
       " 'и': {'е': 14, 'н': 35},\n",
       " 'с': {'е': 14},\n",
       " 'г': {'ч': 11},\n",
       " 'н': {'к': 20, 'м': 11},\n",
       " 'о': {'а': 24},\n",
       " 'е': {'и': 17, 'с': 25},\n",
       " 'к': {'н': 17},\n",
       " 'а': {'о': 16},\n",
       " 'л': {'м': 14}}"
      ]
     },
     "execution_count": 23,
     "metadata": {},
     "output_type": "execute_result"
    }
   ],
   "source": [
    "a = evaluate(model, count_err_stat=True)\n",
    "\n",
    "similar_sym = {}\n",
    "for true_sym in a:\n",
    "    for pred_sym in a[true_sym]:\n",
    "        if a[true_sym][pred_sym] >= 10:\n",
    "            if pred_sym in similar_sym.keys(): \n",
    "                similar_sym[pred_sym].update({true_sym : a[true_sym][pred_sym]})\n",
    "            else: similar_sym[pred_sym] = {true_sym : a[true_sym][pred_sym]}\n",
    "similar_sym"
   ]
  },
  {
   "cell_type": "code",
   "execution_count": 24,
   "metadata": {},
   "outputs": [],
   "source": [
    "def predict(model, img, correcting = False):\n",
    "    \n",
    "    CER = CharErrorRate()\n",
    "    coder = SymbolCoder(train_alphabet)\n",
    "    \n",
    "    logits = model(img.to(DEVICE))\n",
    "    logits = logits.contiguous().cpu()\n",
    "    T, B, H = logits.size()\n",
    "    pred_sizes = torch.LongTensor([T for i in range(B)])\n",
    "    probs, pos = logits.max(2)\n",
    "    pos = pos.transpose(1, 0).contiguous().view(-1)\n",
    "    predictions = coder.decode(pos.data, pred_sizes.data)\n",
    "    \n",
    "    if correcting: predictions = word_correction(predictions)\n",
    "        \n",
    "    return predictions"
   ]
  },
  {
   "cell_type": "code",
   "execution_count": 25,
   "metadata": {},
   "outputs": [],
   "source": [
    "test_loader = torch.utils.data.DataLoader(test_data, batch_size = 9)"
   ]
  },
  {
   "cell_type": "code",
   "execution_count": 82,
   "metadata": {},
   "outputs": [
    {
     "data": {
      "application/vnd.jupyter.widget-view+json": {
       "model_id": "19487b11f36744b886f5e73a51046643",
       "version_major": 2,
       "version_minor": 0
      },
      "text/plain": [
       "  0%|          | 0/9 [00:00<?, ?it/s]"
      ]
     },
     "metadata": {},
     "output_type": "display_data"
    },
    {
     "data": {
      "image/png": "[encoded data removed]",
      "text/plain": [
       "<Figure size 1000x1000 with 9 Axes>"
      ]
     },
     "metadata": {},
     "output_type": "display_data"
    }
   ],
   "source": [
    "import matplotlib.pyplot as plt\n",
    "\n",
    "examples = []\n",
    "idx = 0\n",
    "coder = SymbolCoder(train_alphabet)\n",
    "\n",
    "for n, batch in enumerate(test_loader):\n",
    "    if n <= 2: continue\n",
    "    img, true_label = batch[0], batch[1]\n",
    "    pred_label = predict(model, img, True)\n",
    "    examples = [img, true_label, pred_label]\n",
    "    break\n",
    "fig = plt.figure(figsize=(10, 10))\n",
    "rows = int(9 / 4) + 2\n",
    "columns = int(9 / 8) + 2\n",
    "for j in range(len(examples[-1])):\n",
    "    fig.add_subplot(rows, columns, j + 1)\n",
    "    plt.imshow(examples[0][j].permute(1, 2, 0) * 0.5 + 0.5) #denormalize data\n",
    "    plt.title('true:' + examples[1][j] + '\\npred:' + examples[2][j], loc = 'left')"
   ]
  },
  {
   "cell_type": "code",
   "execution_count": 74,
   "metadata": {},
   "outputs": [
    {
     "data": {
      "image/png": "[encoded data removed]",
      "text/plain": [
       "<PIL.PngImagePlugin.PngImageFile image mode=RGB size=1268x532>"
      ]
     },
     "metadata": {},
     "output_type": "display_data"
    },
    {
     "data": {
      "text/plain": [
       "'модель'"
      ]
     },
     "execution_count": 74,
     "metadata": {},
     "output_type": "execute_result"
    }
   ],
   "source": [
    "from IPython.display import display\n",
    "\n",
    "img2 = Image.open('./Модель.png')\n",
    "display(img2)\n",
    "img2 = test_transform(img2)\n",
    "\n",
    "logits = model(img2.expand(3, -1, -1).unsqueeze(0).to(DEVICE))\n",
    "logits = logits.contiguous().cpu()\n",
    "T, B, H = logits.size()\n",
    "pred_sizes = torch.LongTensor([T])\n",
    "probs, pos = logits.max(2)\n",
    "pos = pos.transpose(1, 0).contiguous().view(-1)\n",
    "predictions = coder.decode(pos.data, pred_sizes.data)\n",
    "predictions"
   ]
  }
 ],
 "metadata": {
  "kernelspec": {
   "display_name": "base",
   "language": "python",
   "name": "python3"
  },
  "language_info": {
   "codemirror_mode": {
    "name": "ipython",
    "version": 3
   },
   "file_extension": ".py",
   "mimetype": "text/x-python",
   "name": "python",
   "nbconvert_exporter": "python",
   "pygments_lexer": "ipython3",
   "version": "3.9.15 | packaged by conda-forge | (main, Nov 22 2022, 08:41:22) [MSC v.1929 64 bit (AMD64)]"
  },
  "orig_nbformat": 4,
  "vscode": {
   "interpreter": {
    "hash": "cffdd22708c8f24895f497a03a7b67c0092c0fcb40692f19cd97059e00134830"
   }
  }
 },
 "nbformat": 4,
 "nbformat_minor": 2
}
