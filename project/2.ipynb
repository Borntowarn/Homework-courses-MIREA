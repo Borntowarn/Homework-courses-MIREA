{
 "cells": [
  {
   "cell_type": "code",
   "execution_count": 1,
   "metadata": {},
   "outputs": [
    {
     "name": "stderr",
     "output_type": "stream",
     "text": [
      "Global seed set to 1\n"
     ]
    }
   ],
   "source": [
    "import os\n",
    "import math\n",
    "import wandb\n",
    "import torch\n",
    "import hydra\n",
    "import enchant\n",
    "import pandas as pd\n",
    "import torch.nn as nn\n",
    "import matplotlib.pyplot as plt\n",
    "\n",
    "import straug.blur as blur\n",
    "import straug.warp as warp\n",
    "import straug.noise as noise\n",
    "import straug.camera as camera\n",
    "import straug.process as process\n",
    "import straug.geometry as geometry\n",
    "\n",
    "from PIL import Image\n",
    "from torch import Tensor\n",
    "from tabulate import tabulate\n",
    "from tqdm.notebook import tqdm\n",
    "from typing import Union, Optional\n",
    "from IPython.display import display\n",
    "from hydra import initialize, compose\n",
    "from pytorch_lightning import seed_everything\n",
    "from torch.utils.data import Dataset, DataLoader\n",
    "from torchvision import datasets, transforms, models\n",
    "from torchmetrics import CharErrorRate, WordErrorRate\n",
    "from omegaconf import OmegaConf, DictConfig, open_dict\n",
    "\n",
    "seed_everything(1, True)\n",
    "DEVICE = 'cuda:0'"
   ]
  },
  {
   "attachments": {},
   "cell_type": "markdown",
   "metadata": {},
   "source": [
    "# Что из себя представляют данные"
   ]
  },
  {
   "attachments": {},
   "cell_type": "markdown",
   "metadata": {},
   "source": [
    "Сами изображения в двух папках, а их метки в файлах tcv:"
   ]
  },
  {
   "cell_type": "code",
   "execution_count": 2,
   "metadata": {},
   "outputs": [
    {
     "data": {
      "text/plain": [
       "['old_test.tsv', 'old_train.tsv', 'test', 'test.tsv', 'train', 'train.tsv']"
      ]
     },
     "execution_count": 2,
     "metadata": {},
     "output_type": "execute_result"
    }
   ],
   "source": [
    "os.listdir('./dataset/')"
   ]
  },
  {
   "attachments": {},
   "cell_type": "markdown",
   "metadata": {},
   "source": [
    "# Посмотрим на различия алфавита:"
   ]
  },
  {
   "cell_type": "code",
   "execution_count": 3,
   "metadata": {},
   "outputs": [
    {
     "name": "stdout",
     "output_type": "stream",
     "text": [
      "93\n",
      "True\n"
     ]
    }
   ],
   "source": [
    "test_df = pd.read_csv('./dataset/test.tsv', delimiter='\\t', names = ['Image name', 'Label'])\n",
    "test_alphabet = set(test_df['Label'].to_string())\n",
    "\n",
    "train_df = pd.read_csv('./dataset/train.tsv', delimiter='\\t', names = ['Image name', 'Label'])\n",
    "train_alphabet = set(train_df['Label'].to_string()) - set('\\n')\n",
    "\n",
    "old_train_df = pd.read_csv('./dataset/old_train.tsv', delimiter='\\t', names = ['Image name', 'Label'])\n",
    "old_train_alphabet = set(old_train_df['Label'].to_string()) - set('\\n')\n",
    "\n",
    "print(len(old_train_alphabet))\n",
    "print(train_alphabet == old_train_alphabet)"
   ]
  },
  {
   "cell_type": "code",
   "execution_count": 4,
   "metadata": {},
   "outputs": [
    {
     "data": {
      "text/plain": [
       "22"
      ]
     },
     "execution_count": 4,
     "metadata": {},
     "output_type": "execute_result"
    }
   ],
   "source": [
    "len(sorted(test_df['Label'].values, key= lambda x: len(x), reverse=True)[0])"
   ]
  },
  {
   "attachments": {},
   "cell_type": "markdown",
   "metadata": {},
   "source": [
    "Так как были объединены 2 датасета, в одном из которых были казахские символы, отредактируем лейблинг, удалив/заменив буквы на русские аналоги. Так же в нем присутствовали ошибочные схожие символы английского алфавита. Все эти корректировки проверялись и редактировались вручную"
   ]
  },
  {
   "cell_type": "code",
   "execution_count": 5,
   "metadata": {},
   "outputs": [],
   "source": [
    "for i in range(len(test_df['Image name'])):\n",
    "    try:\n",
    "        if len(set('ғҚқҮӨө–—…oH') - set(test_df.iloc[i][1])) != len(set('ғҚқҮӨө–—…oH')):\n",
    "            print(test_df.iloc[i][0])\n",
    "    except Exception:\n",
    "        print(i)"
   ]
  },
  {
   "attachments": {},
   "cell_type": "markdown",
   "metadata": {},
   "source": [
    "После выполнения функции можно увидеть, что на некоторых картинках не хватает разметки. Дополним эту разметку"
   ]
  },
  {
   "attachments": {},
   "cell_type": "markdown",
   "metadata": {},
   "source": [
    "Также в данных были и ошибочные метки - ссылка, из-за которой добавлялись английские символы, сокращенный знак кавычек >> или <<. Все эти шумы отфильтровались или заменились на корректные символы"
   ]
  },
  {
   "attachments": {},
   "cell_type": "markdown",
   "metadata": {},
   "source": [
    "# Dataset class"
   ]
  },
  {
   "cell_type": "code",
   "execution_count": 6,
   "metadata": {},
   "outputs": [],
   "source": [
    "class HWTDataset(Dataset):\n",
    "    \"\"\"\n",
    "    Class for creating custom image2label dataset from folder\n",
    "\n",
    "    Args:\n",
    "        Dataset (Dataset): Standart torch class for custom datasets\n",
    "    \"\"\"\n",
    "    \n",
    "    \n",
    "    def __init__(\n",
    "        self,\n",
    "        root_dir: str,\n",
    "        label_dir: str,\n",
    "        transforms: transforms.Compose = None) -> None:\n",
    "        \n",
    "        super(HWTDataset, self).__init__()\n",
    "        \n",
    "        name_label = pd.read_csv(label_dir, delimiter='\\t', names = ['Image name', 'Label'])\n",
    "        name_label['Image name'] = name_label['Image name'].apply(lambda x: os.path.join(root_dir, x))\n",
    "        self.data = name_label.to_dict('split')['data']\n",
    "        \n",
    "        self.transforms = transforms\n",
    "    \n",
    "    \n",
    "    def __len__(self) -> int:\n",
    "        return len(self.data)\n",
    "    \n",
    "        \n",
    "    def __getitem__(self, index: int) -> tuple[Tensor, str]:\n",
    "        \n",
    "        path, label = self.data[index]\n",
    "        img = Image.open(path).convert('RGB')\n",
    "        \n",
    "        if self.transforms is not None:\n",
    "            img = self.transforms(img)\n",
    "        \n",
    "        return img, label"
   ]
  },
  {
   "attachments": {},
   "cell_type": "markdown",
   "metadata": {},
   "source": [
    "# Decoder class"
   ]
  },
  {
   "cell_type": "code",
   "execution_count": 7,
   "metadata": {},
   "outputs": [],
   "source": [
    "class SymbolCoder:\n",
    "    \"\"\"\n",
    "    Class needs to encode initial text to Tensor\n",
    "    and decode predicted labels to text\n",
    "    \"\"\"\n",
    "    \n",
    "    def __init__(self, alphabet) -> None:\n",
    "        \n",
    "        self.alphabet = alphabet\n",
    "        self.sym2class, self.class2sym = {'' : 0}, {0 : ''}\n",
    "        \n",
    "        for num, alpha in enumerate(sorted(alphabet)):\n",
    "            self.sym2class[alpha] = num + 1\n",
    "            self.class2sym[num + 1] = alpha\n",
    "    \n",
    "    \n",
    "    def encode(self, text) -> tuple[Tensor, Tensor]:\n",
    "        \"\"\"\n",
    "        This method needs for encoding initial word to Tensor\n",
    "\n",
    "        Args:\n",
    "            text (str): Initial text for encode\n",
    "\n",
    "        Returns:\n",
    "            tuple: First value is a tensor of word(s) classes, second is length(s) of word(s)\n",
    "        \"\"\"\n",
    "        \n",
    "        length = []\n",
    "        result = []\n",
    "        \n",
    "        for word in text:\n",
    "            length.append(len(word))\n",
    "            for alpha in word:\n",
    "                if alpha in self.alphabet: \n",
    "                    result.append(self.sym2class[alpha])\n",
    "                else: result.append(0)\n",
    "        \n",
    "        return (torch.tensor(result, dtype=torch.int64), torch.tensor(length, dtype=torch.int64))\n",
    "    \n",
    "    \n",
    "    def decode(self, text, length) -> Union[str, list]:\n",
    "        \"\"\"\n",
    "        This method used for decoding prediction classes to text\n",
    "\n",
    "        Args:\n",
    "            text (Tensor): predicted text(s)\n",
    "            length (Tensor): length(s) of prediction text(s)\n",
    "\n",
    "        Returns:\n",
    "            str or list: list type returns when use for batch, for single word returns str\n",
    "        \"\"\"\n",
    "        \n",
    "        #For single word\n",
    "        if length.numel() == 1:\n",
    "            \n",
    "            length = length[0]\n",
    "            word = ''\n",
    "            \n",
    "            for i in range(length):\n",
    "                if text[i] != 0 and not (i > 0 and text[i - 1] == text[i]):\n",
    "                    word  += self.class2sym[text[i].item()]\n",
    "            return word\n",
    "        \n",
    "        #For batch\n",
    "        else:\n",
    "            \n",
    "            words = []\n",
    "            index = 0\n",
    "            \n",
    "            for i in range(length.numel()):\n",
    "                l = length[i]\n",
    "                words.append(\n",
    "                    self.decode(text[index:index + l], torch.IntTensor([l])))\n",
    "                index += l\n",
    "            return words\n",
    "    \n",
    "    \n",
    "    def __len__(self):\n",
    "        return len(self.class2sym)"
   ]
  },
  {
   "attachments": {},
   "cell_type": "markdown",
   "metadata": {},
   "source": [
    "# Augmentations"
   ]
  },
  {
   "cell_type": "code",
   "execution_count": 8,
   "metadata": {},
   "outputs": [],
   "source": [
    "class Transforms(transforms.Compose):\n",
    "    \n",
    "    def __init__(self, args) -> None:\n",
    "        \n",
    "        self.transforms = []\n",
    "        \n",
    "        for key, value in args.items():\n",
    "            value = OmegaConf.to_object(value)\n",
    "            self.transforms.append(\n",
    "                transforms.RandomApply([\n",
    "                    getattr(transforms, key)(**value['params'])], # Transform\n",
    "                    value['prob']) # Probability of apply\n",
    "                )\n",
    "        self.transforms.append(transforms.ToTensor())"
   ]
  },
  {
   "attachments": {},
   "cell_type": "markdown",
   "metadata": {},
   "source": [
    "# Model classes"
   ]
  },
  {
   "cell_type": "code",
   "execution_count": 9,
   "metadata": {},
   "outputs": [],
   "source": [
    "class RNN(nn.Module):\n",
    "    \"\"\"\n",
    "    This class use for seq 2 seq prediction\n",
    "    \"\"\"\n",
    "    \n",
    "    def __init__(self,\n",
    "                 in_len,\n",
    "                 out_len,\n",
    "                 n_classes : int = None,\n",
    "                 rnn_type : str = 'RNN',\n",
    "                 bidirectional : bool = True,\n",
    "                 batch_first : bool = True) -> None:\n",
    "        \n",
    "        super(RNN, self).__init__()\n",
    "        self.n_classes = n_classes\n",
    "        self.linear = None\n",
    "        \n",
    "        self.rnn = getattr(nn, rnn_type)(in_len, out_len, \n",
    "                          bidirectional = bidirectional, \n",
    "                          batch_first = batch_first)\n",
    "        \n",
    "        if self.n_classes:\n",
    "            self.linear = nn.Linear(out_len * [1, 2][bidirectional], n_classes)\n",
    "\n",
    "    \n",
    "    def forward(self, data) -> torch.Tensor:\n",
    "        \n",
    "        \"\"\"\n",
    "        N = batch size\n",
    "        L = sequence length\n",
    "        D = 2 if bidirectional=True otherwise 1\n",
    "        H_in = input_size\n",
    "        H_out = hidden_size\n",
    "        \"\"\"\n",
    "        \n",
    "        N, L, H_in = data.shape\n",
    "        \n",
    "        data, _ = self.rnn(data) # [N, L, D * n_hidden]\n",
    "        if self.linear:\n",
    "            data = data.reshape(N * L, -1)\n",
    "            data = self.linear(data)\n",
    "            data = data.reshape(N, L, -1)\n",
    "        \n",
    "        return data"
   ]
  },
  {
   "cell_type": "code",
   "execution_count": 10,
   "metadata": {},
   "outputs": [],
   "source": [
    "class Model(nn.Module):\n",
    "    \"\"\"\n",
    "    This class use for slicing initial image\n",
    "    \"\"\"\n",
    "    \n",
    "    def __init__(self,\n",
    "                 in_channels : int,\n",
    "                 img_shape : tuple,\n",
    "                 len_alphabet : int,\n",
    "                 num_layers : int = 5,\n",
    "                 increase_channels_layers : list = [0, 1, 3],\n",
    "                 modules_seq : str = 'CAMB',\n",
    "                 modules_freq : list = [1, 1, 1, 1],\n",
    "                 conv_kernel_size : Union[int, tuple] = 3,\n",
    "                 conv_stride : Union[int, tuple] = 1,\n",
    "                 conv_padding : Union[int, tuple] = 1,\n",
    "                 pool_kernel_size : Union[int, tuple] = 2,\n",
    "                 pool_stride : Union[int, tuple] = 2,\n",
    "                 pool_padding : Union[int, tuple] = 0,\n",
    "                 activation : str = 'ReLU',\n",
    "                 rnn_type : str = 'RNN'\n",
    "                 ) -> None:\n",
    "        \n",
    "        assert rnn_type in ['RNN', 'GRU', 'LSTM'], 'RNN type must be RNN, GRU or LSTM'\n",
    "        \n",
    "        super(Model, self).__init__()\n",
    "        self.layers = nn.ModuleList()\n",
    "        out_channels = 64\n",
    "        frequency = dict(zip(modules_seq, modules_freq))\n",
    "        \n",
    "        for layer in range(num_layers):\n",
    "            for module in modules_seq:\n",
    "                if (layer + 1) % frequency[module]:\n",
    "                    continue\n",
    "                if module == 'C':\n",
    "                    self.layers.append(nn.Conv2d(in_channels, out_channels, conv_kernel_size,\n",
    "                                                conv_stride, conv_padding))\n",
    "                    in_channels = out_channels\n",
    "                    img_shape = self.conv_output_shape(img_shape, conv_kernel_size, conv_stride, conv_padding)\n",
    "                elif module == 'A':\n",
    "                    self.layers.append(getattr(nn, activation)())\n",
    "                elif module == 'M':\n",
    "                    self.layers.append(nn.MaxPool2d(pool_kernel_size, pool_stride, pool_padding))\n",
    "                    img_shape = self.conv_output_shape(img_shape, pool_kernel_size, pool_stride, pool_padding)\n",
    "                elif module == 'B':\n",
    "                    self.layers.append(nn.BatchNorm2d(out_channels))\n",
    "            \n",
    "            if layer in increase_channels_layers:\n",
    "                out_channels *= 2\n",
    "        \n",
    "        self.rnn_layers = nn.Sequential(\n",
    "            RNN(img_shape[0]*512, 512, rnn_type=rnn_type, bidirectional=True, batch_first=True),\n",
    "            RNN(1024, 128, len_alphabet + 1, rnn_type=rnn_type, bidirectional=True, batch_first=True)\n",
    "        )\n",
    "        \n",
    "        print(f'Shape after convs layers: {img_shape}')\n",
    "    \n",
    "    \n",
    "    def conv_output_shape(self, h_w, kernel_size=1, stride=1, pad=0, dilation=1) -> tuple:\n",
    "        from math import floor\n",
    "        if isinstance(kernel_size, int):\n",
    "            kernel_size = (kernel_size, kernel_size)\n",
    "        if isinstance(stride, int):\n",
    "            stride = (stride, stride)\n",
    "        if isinstance(pad, int):\n",
    "            pad = (pad, pad)\n",
    "        h = floor(((h_w[0] + (2 * pad[0]) - (dilation * (kernel_size[0] - 1)) - 1) / stride[0]) + 1)\n",
    "        w = floor(((h_w[1] + (2 * pad[0]) - (dilation * (kernel_size[1] - 1)) - 1) / stride[1]) + 1)\n",
    "        return (h, w)\n",
    "    \n",
    "    \n",
    "    def forward(self, data):\n",
    "        \"\"\"\n",
    "        N = batch size\n",
    "        L = sequence length\n",
    "        D = 2 if bidirectional=True otherwise 1\n",
    "        H_in = input_size\n",
    "        H_out = hidden_size\n",
    "        \"\"\"\n",
    "        \n",
    "        for module in self.layers:\n",
    "            data = module(data)\n",
    "        \n",
    "        bs, c, h, w = data.shape\n",
    "        \n",
    "        data = data.permute(0, 3, 1, 2).reshape(bs, w, c * h) # bs, w, h * c equal to N, L, H\n",
    "        data = self.rnn_layers(data) # N, L, len_alphabet\n",
    "        data = data.permute(1, 0, 2) # L, N, len_alphabet\n",
    "        \n",
    "        prob = torch.nn.functional.log_softmax(data, 2)\n",
    "        \n",
    "        return prob"
   ]
  },
  {
   "attachments": {},
   "cell_type": "markdown",
   "metadata": {},
   "source": [
    "# Train class"
   ]
  },
  {
   "cell_type": "code",
   "execution_count": 11,
   "metadata": {},
   "outputs": [],
   "source": [
    "class Trainer:\n",
    "    \n",
    "    def __init__(self,\n",
    "                 model,\n",
    "                 optimizer,\n",
    "                 scheduler,\n",
    "                 dataloader,\n",
    "                 lossfunc,\n",
    "                 coder,\n",
    "                 epochs,\n",
    "                 model_name,\n",
    "                 train_alphabet,\n",
    "                 logging : bool = False,\n",
    "                 device : str = 'cuda'\n",
    "                 ) -> None:\n",
    "        self.model = model\n",
    "        self.optimizer = optimizer\n",
    "        self.scheduler = scheduler\n",
    "        self.dataloader = dataloader\n",
    "        self.lossfunc = lossfunc\n",
    "        self.coder = coder\n",
    "        self.epochs = epochs\n",
    "        self.model_name = model_name\n",
    "        self.LOGGING = logging\n",
    "        self.DEVICE = device\n",
    "        self.train_alphabet = train_alphabet\n",
    "\n",
    "\n",
    "    def print_epoch_data(\n",
    "        self, epoch: int, mean_loss: float, char_error: float, word_error: float, zero_out_losses: float\n",
    "        ) -> None:\n",
    "        \n",
    "        print(tabulate([['epoch', 'mean loss', 'mean cer', 'mean wer', 'zero loss warnings'],\n",
    "                        [epoch, round(mean_loss, 4), round(char_error, 4),\n",
    "                         round(word_error, 4), zero_out_losses]],\n",
    "                       headers='firstrow',\n",
    "                       tablefmt='fancy_grid'))\n",
    "\n",
    "\n",
    "    def save_model(self, mean_loss: float, char_error: float) -> None:\n",
    "        torch.save(self.model.state_dict(),\n",
    "                    f'./{self.model_name} \\\n",
    "                    _L-{round(mean_loss, 4)} \\\n",
    "                    _CER-{round(char_error, 4)}.pth')\n",
    "\n",
    "\n",
    "    def log(self, mean_loss: float, char_error: float, word_error: float) -> None:\n",
    "        wandb.log({'loss': mean_loss,\n",
    "                    'CER': char_error,\n",
    "                    'WER': word_error,\n",
    "                    'Learn Rate': self.scheduler.get_last_lr()[-1]})\n",
    "    \n",
    "    \n",
    "    def print_save_stat(self,outputs, epoch, zero_out) -> None:\n",
    "        \n",
    "        assert len(outputs) != 0, 'Error: bad loss'\n",
    "            \n",
    "        output = torch.Tensor(outputs)\n",
    "        mean_loss = output[:, 0].mean().item()\n",
    "        char_error = output[:, 1].mean().item()\n",
    "        word_error = output[:, 2].mean().item()\n",
    "        \n",
    "        self.print_epoch_data(epoch, mean_loss, char_error, word_error, zero_out)\n",
    "        \n",
    "        if self.LOGGING:\n",
    "            self.log(mean_loss, char_error, word_error)\n",
    "        \n",
    "        if char_error < 0.03:\n",
    "            self.save_model(mean_loss, char_error)\n",
    "            \n",
    "\n",
    "    def train(self) -> None:\n",
    "        \n",
    "        self.model.train()\n",
    "        CER = CharErrorRate()\n",
    "        WER = WordErrorRate()\n",
    "        \n",
    "        if self.LOGGING:\n",
    "            wandb.watch(self.model, self.lossfunc, log='all', log_freq=100)\n",
    "        \n",
    "        for epoch in tqdm(range(self.epochs), total=self.epochs):\n",
    "            \n",
    "            zero_out_losses = 0\n",
    "            outputs = []\n",
    "            \n",
    "            for (data, targets) in tqdm(self.dataloader, total=len(self.dataloader)):\n",
    "                \n",
    "                self.optimizer.zero_grad()\n",
    "                \n",
    "                classes, lengths = self.coder.encode(targets)\n",
    "                \n",
    "                data = data.to(self.DEVICE)\n",
    "                classes = classes.to(self.DEVICE)\n",
    "                \n",
    "                # Forward pass\n",
    "                logits = self.model(data)\n",
    "                logits = logits.contiguous().cpu()\n",
    "                T, N, C = logits.size()\n",
    "                pred_sizes = torch.LongTensor([T for i in range(N)]).to(self.DEVICE)\n",
    "                classes = classes.view(-1).contiguous()\n",
    "                loss = self.lossfunc(logits, classes, pred_sizes, lengths)\n",
    "                \n",
    "                if (torch.zeros(loss.size()) == loss).all():\n",
    "                    zero_out_losses += 1\n",
    "                    continue\n",
    "                \n",
    "                # Prediction\n",
    "                probs, preds = logits.max(2)\n",
    "                preds = preds.transpose(1, 0).contiguous().view(-1)\n",
    "                sim_preds = self.coder.decode(preds.data, pred_sizes.data)\n",
    "                \n",
    "                # Errors\n",
    "                cer = CER(sim_preds, targets)\n",
    "                wer = WER(sim_preds, targets)\n",
    "                \n",
    "                # Backward pass\n",
    "                loss.backward()\n",
    "                self.optimizer.step()\n",
    "                self.scheduler.step()\n",
    "                \n",
    "                # Statistics\n",
    "                output = [abs(loss.item()), cer, wer]\n",
    "                outputs.append(output)\n",
    "                print(output)\n",
    "            \n",
    "            self.print_save_stat(outputs, epoch, self.model, self.scheduler,\n",
    "                                 self.model_name, zero_out_losses)\n",
    "        \n",
    "        return self.model"
   ]
  },
  {
   "attachments": {},
   "cell_type": "markdown",
   "metadata": {},
   "source": [
    "# Config"
   ]
  },
  {
   "cell_type": "code",
   "execution_count": 12,
   "metadata": {},
   "outputs": [],
   "source": [
    "CONFIG_PATH = 'config'\n",
    "\n",
    "with initialize(version_base=None, config_path=CONFIG_PATH):\n",
    "    cfg = compose('config')\n",
    "    cfg = compose('config', [f'+transforms={cfg.transforms}',\n",
    "                             f'+model={cfg.model}',\n",
    "                             f'+scheduler={cfg.scheduler}',\n",
    "                             f'+optim={cfg.optim}'])\n",
    "    in_channels = cfg.transforms.params.Grayscale.params.num_output_channels\n",
    "    img_shape = cfg.transforms.params.Resize.params.size\n",
    "    with open_dict(cfg):\n",
    "        cfg.model.params.in_channels = in_channels\n",
    "        cfg.model.params.img_shape = img_shape"
   ]
  },
  {
   "attachments": {},
   "cell_type": "markdown",
   "metadata": {},
   "source": [
    "### Wandb init"
   ]
  },
  {
   "cell_type": "code",
   "execution_count": 13,
   "metadata": {},
   "outputs": [],
   "source": [
    "if cfg.id_resume and cfg.logging:\n",
    "    wandb.init(\n",
    "        id='35odcpyv',\n",
    "        project=\"Handwritten text recognition\",\n",
    "        resume='must'\n",
    "    )\n",
    "elif cfg.logging:\n",
    "    wandb.init(\n",
    "        project=\"Handwritten text recognition\",\n",
    "        name = f\"{cfg.model.name}_{cfg.transforms.name}_{cfg.scheduler.name}\",\n",
    "        config={\n",
    "            'Model': cfg.model.name,\n",
    "            'Transform': cfg.transforms.name,\n",
    "            'Optimizer': cfg.optim.name,\n",
    "            'Scheduler': cfg.scheduler.name,\n",
    "            'architecture': 'RCNN',\n",
    "            'dataset': 'Handwritten Cyrillic dataset' if cfg.dataset == 'old_' else 'Custom dataset',\n",
    "            'epochs': cfg.epochs,\n",
    "        }\n",
    "    )"
   ]
  },
  {
   "attachments": {},
   "cell_type": "markdown",
   "metadata": {},
   "source": [
    "### Data loading"
   ]
  },
  {
   "cell_type": "code",
   "execution_count": 14,
   "metadata": {},
   "outputs": [],
   "source": [
    "train_data = HWTDataset(cfg.train.dir,\n",
    "                        cfg.train.labels,\n",
    "                        Transforms(cfg.transforms.params))\n",
    "test_data = HWTDataset(cfg.test.dir,\n",
    "                       cfg.test.labels,\n",
    "                       Transforms(cfg.transforms.params))"
   ]
  },
  {
   "attachments": {},
   "cell_type": "markdown",
   "metadata": {},
   "source": [
    "### Model"
   ]
  },
  {
   "cell_type": "code",
   "execution_count": 15,
   "metadata": {},
   "outputs": [
    {
     "name": "stdout",
     "output_type": "stream",
     "text": [
      "Shape after convs layers: (8, 28)\n"
     ]
    }
   ],
   "source": [
    "model = Model(**cfg.model.params)\n",
    "model = model.to(cfg.device)\n",
    "\n",
    "coder = SymbolCoder(train_alphabet)\n",
    "\n",
    "ctc_loss = torch.nn.CTCLoss(reduction='mean', zero_infinity=True)\n",
    "optimizer = getattr(torch.optim, cfg.optim.optim)(model.parameters(), **cfg.optim.params)\n",
    "dataloader = DataLoader(train_data, cfg.batch, True)\n",
    "cfg.scheduler.params.step_size *= len(dataloader)\n",
    "scheduler = getattr(torch.optim.lr_scheduler, cfg.scheduler.scheduler)(optimizer, **cfg.scheduler.params)\n",
    "trainer = Trainer(model, optimizer, scheduler, dataloader, ctc_loss, coder,\n",
    "                  cfg.epochs, f'M{cfg.model.name}_T{cfg.transforms.name}',\n",
    "                  train_alphabet, cfg.logging, cfg.device)"
   ]
  },
  {
   "attachments": {},
   "cell_type": "markdown",
   "metadata": {},
   "source": [
    "# Training stage"
   ]
  },
  {
   "cell_type": "code",
   "execution_count": 16,
   "metadata": {},
   "outputs": [],
   "source": [
    "#model = trainer.train()"
   ]
  },
  {
   "attachments": {},
   "cell_type": "markdown",
   "metadata": {},
   "source": [
    "# Evaluation stage"
   ]
  },
  {
   "attachments": {},
   "cell_type": "markdown",
   "metadata": {},
   "source": [
    "### Word correction based on external dictionary"
   ]
  },
  {
   "cell_type": "code",
   "execution_count": 17,
   "metadata": {},
   "outputs": [
    {
     "data": {
      "text/plain": [
       "[{'code': 1,\n",
       "  'pos': 8,\n",
       "  'row': 0,\n",
       "  'col': 8,\n",
       "  'len': 4,\n",
       "  'word': 'юэно',\n",
       "  's': ['        южно']}]"
      ]
     },
     "execution_count": 17,
     "metadata": {},
     "output_type": "execute_result"
    }
   ],
   "source": [
    "import requests\n",
    "import json\n",
    "\n",
    "response = requests.get(\n",
    "    'https://speller.yandex.net/services/spellservice.json/checkText?text=\\\n",
    "        юэно-казахстанская')\n",
    "json.loads(response.text)"
   ]
  },
  {
   "cell_type": "code",
   "execution_count": 18,
   "metadata": {},
   "outputs": [
    {
     "data": {
      "text/plain": [
       "'южно-казахстанская москва'"
      ]
     },
     "execution_count": 18,
     "metadata": {},
     "output_type": "execute_result"
    }
   ],
   "source": [
    "from pyaspeller import YandexSpeller\n",
    "speller = YandexSpeller(lang='ru',\n",
    "                        ignore_capitalization=True,\n",
    "                        ignore_uppercase=True)\n",
    "fixed = speller.spelled('юэно-кахахстанская моква')\n",
    "fixed"
   ]
  },
  {
   "attachments": {},
   "cell_type": "markdown",
   "metadata": {},
   "source": [
    "### Count statistics about incorrect symbol prediction"
   ]
  },
  {
   "attachments": {},
   "cell_type": "markdown",
   "metadata": {},
   "source": [
    "### Model eval"
   ]
  },
  {
   "cell_type": "code",
   "execution_count": 28,
   "metadata": {},
   "outputs": [],
   "source": [
    "class Evaluator:\n",
    "    \"\"\"\n",
    "    Class for evaluate CER and WER of model.\n",
    "    Also count stat about symbols errors.\n",
    "    \"\"\"\n",
    "    \n",
    "    def __init__(self, model, loader, coder) -> None:\n",
    "        self.model = model.eval()\n",
    "        self.loader = loader\n",
    "        self.CER = CharErrorRate()\n",
    "        self.WER = WordErrorRate()\n",
    "        self.coder = coder\n",
    "        \n",
    "        self.predictions = []\n",
    "        self.labels = []\n",
    "        \n",
    "        self.symbol_err = {}\n",
    "        self.length_word_CER = {}\n",
    "        \n",
    "    \n",
    "    def suggest(self, words, dictionary) -> str:\n",
    "        result = ''\n",
    "        \n",
    "        for word in words:\n",
    "            if word.isalpha():\n",
    "                \n",
    "                # If word is in dict probably it's without errors\n",
    "                cer_suggest = dict()\n",
    "                if dictionary.check(word):\n",
    "                    result += word + ' '\n",
    "                    continue\n",
    "                \n",
    "                # Else dict can suggest what word we need\n",
    "                suggestions = set(dictionary.suggest(word))\n",
    "\n",
    "                # For every suggestion finding CER\n",
    "                for suggest in suggestions:\n",
    "                    if ' ' not in suggest:\n",
    "                        cer = self.CER(suggest, word)\n",
    "                        cer_suggest[cer] = suggest\n",
    "                \n",
    "                # Get the nearest word or original word if there's no suggestions\n",
    "                if len(cer_suggest.keys()) > 0: \n",
    "                    result += cer_suggest[min(cer_suggest.keys())] + ' '\n",
    "                else:\n",
    "                    result += word + ' '\n",
    "                    \n",
    "        return result[:-1]\n",
    "        \n",
    "    \n",
    "    def word_correction(self) -> list:\n",
    "        correct_predictions = []\n",
    "        dictionary = enchant.Dict(\"ru_RU\")\n",
    "        \n",
    "        # Every pred phrase is splitted by words\n",
    "        # then every word is checked with external dict\n",
    "        for phrase in tqdm(self.predictions, total=len(self.predictions)):\n",
    "            words = phrase.split()\n",
    "            result = self.suggest(words, dictionary)\n",
    "            correct_predictions.append(result)\n",
    "            \n",
    "        return correct_predictions\n",
    "    \n",
    "    \n",
    "    def count_errors(self) -> tuple[dict[str, dict], dict[str, list]]:\n",
    "        \n",
    "        if not len(self.predictions):\n",
    "            self.evaluate()\n",
    "        \n",
    "        for pred, true in zip(self.predictions, self.labels):\n",
    "            \n",
    "            # Add CERs for all pairs (pred, true) to collect\n",
    "            # the errors dependence on the length\n",
    "            if len(true) in self.length_word_CER.keys():\n",
    "                self.length_word_CER[len(true)].append(self.CER(pred, true))\n",
    "            else: \n",
    "                self.length_word_CER[len(true)] = [self.CER(pred, true)]\n",
    "            \n",
    "            # Get incorrect symbols statistics\n",
    "            if len(true) == len(pred) and true != pred:\n",
    "                for i, j in zip(pred, true):\n",
    "                    if i != j: \n",
    "                        if j in self.symbol_err.keys(): \n",
    "                            if i in self.symbol_err[j].keys():\n",
    "                                self.symbol_err[j][i] += 1\n",
    "                            else: self.symbol_err[j][i] = 1\n",
    "                        else: self.symbol_err[j] = {i : 1}\n",
    "    \n",
    "    \n",
    "    def errors_sym_stat(self, num_matches = 10) -> dict[str, dict]:\n",
    "    \n",
    "        if not len(self.length_word_CER):\n",
    "            self.count_errors()\n",
    "        \n",
    "            # Leave only signficant errors\n",
    "            similar_sym = {}\n",
    "            for true_sym in self.symbol_err:\n",
    "                for pred_sym in self.symbol_err[true_sym]:\n",
    "                    if self.symbol_err[true_sym][pred_sym] >= num_matches:\n",
    "                        if pred_sym in similar_sym.keys(): \n",
    "                            similar_sym[pred_sym].update({true_sym : self.symbol_err[true_sym][pred_sym]})\n",
    "                        else: similar_sym[pred_sym] = {true_sym : self.symbol_err[true_sym][pred_sym]}\n",
    "            self.symbol_err = similar_sym\n",
    "\n",
    "            # Count mean value for CER based on length\n",
    "            self.length_word_CER = {\n",
    "                key : torch.Tensor(self.length_word_CER[key]).mean().item()\n",
    "                for key in self.length_word_CER.keys()\n",
    "                }\n",
    "        \n",
    "        return self.symbol_err.copy(), self.length_word_CER.copy()\n",
    "\n",
    "    \n",
    "\n",
    "    def evaluate(self, correcting = False):\n",
    "        predictions = []\n",
    "        labels = []\n",
    "        \n",
    "        # Get predictions\n",
    "        for iteration, batch in enumerate(tqdm(self.loader)):\n",
    "            data, targets = batch[0].to(DEVICE), batch[1]\n",
    "            labels.extend(targets)\n",
    "            \n",
    "            logits = self.model(data).contiguous().cpu()\n",
    "            T, B, H = logits.size()\n",
    "            pred_sizes = torch.LongTensor([T for i in range(B)])\n",
    "            probs, pos = logits.max(2)\n",
    "            pos = pos.transpose(1, 0).contiguous().view(-1)\n",
    "            \n",
    "            sim_preds = self.coder.decode(pos.data, pred_sizes.data)\n",
    "            predictions.extend(sim_preds)\n",
    "        \n",
    "        self.labels = labels\n",
    "        self.predictions = predictions\n",
    "        \n",
    "        # Correct predictions if wants\n",
    "        if correcting: \n",
    "            predictions = self.word_correction()\n",
    "        \n",
    "        # Count CER, WER\n",
    "        char_error = self.CER(predictions, self.labels)\n",
    "        word_error = self.WER(predictions, self.labels)\n",
    "        \n",
    "        return char_error, word_error"
   ]
  },
  {
   "cell_type": "code",
   "execution_count": 20,
   "metadata": {},
   "outputs": [],
   "source": [
    "class RNN2(nn.Module):\n",
    "    \"\"\"\n",
    "    This class use for seq 2 seq prediction\n",
    "    \"\"\"\n",
    "    \n",
    "    def __init__(self, in_len, out_len, n_classes = None,\n",
    "                 bidirectional = True, batch_first = True) -> None:\n",
    "        \n",
    "        super(RNN2, self).__init__()\n",
    "        self.n_classes = n_classes\n",
    "        self.linear = None\n",
    "        \n",
    "        self.rnn = nn.RNN(in_len, out_len, \n",
    "                          bidirectional = bidirectional, \n",
    "                          batch_first = batch_first)\n",
    "        \n",
    "        if self.n_classes:\n",
    "            self.linear = nn.Linear(out_len * [1, 2][bidirectional], n_classes)\n",
    "\n",
    "    \n",
    "    def forward(self, data):\n",
    "        \n",
    "        \"\"\"\n",
    "        N = batch size\n",
    "        L = sequence length\n",
    "        D = 2 if bidirectional=True otherwise 1\n",
    "        H_in = input_size\n",
    "        H_out = hidden_size\n",
    "        \"\"\"\n",
    "        \n",
    "        N, L, H_in = data.shape\n",
    "        \n",
    "        data, _ = self.rnn(data) # [N, L, [1, 2] * n_hidden], 1 if bidir = False, else 2\n",
    "        if self.linear:\n",
    "            data = data.reshape(N * L, -1)\n",
    "            data = self.linear(data)\n",
    "            data = data.reshape(N, L, -1)\n",
    "        \n",
    "        return data"
   ]
  },
  {
   "cell_type": "code",
   "execution_count": 21,
   "metadata": {},
   "outputs": [],
   "source": [
    "class Model2(nn.Module):\n",
    "    \"\"\"\n",
    "    In this model I complicated the architechture by adding\n",
    "    more layers and changing ReLU to LeakyReLU\n",
    "    \"\"\"\n",
    "    \n",
    "    def __init__(self, len_alphabet) -> None:\n",
    "        super(Model2, self).__init__()\n",
    "        \n",
    "        # In - 3x64x224\n",
    "        self.layer_1 = nn.Sequential()\n",
    "        self.layer_1.add_module('1', nn.Conv2d(1, 64, 3, padding=1))\n",
    "        self.layer_1.add_module('2', nn.BatchNorm2d(64))\n",
    "        self.layer_1.add_module('3', nn.LeakyReLU())\n",
    "        # Out - 64x64x224\n",
    "        \n",
    "        # In - 64x64x224\n",
    "        self.layer_2 = nn.Sequential()\n",
    "        self.layer_2.add_module('1', nn.Conv2d(64, 128, 3, padding=1))\n",
    "        self.layer_2.add_module('2', nn.BatchNorm2d(128))\n",
    "        self.layer_2.add_module('3', nn.LeakyReLU())\n",
    "        self.layer_2.add_module('4', nn.MaxPool2d(2, 2))\n",
    "        # Out - 128x32x112\n",
    "        \n",
    "        # In - 128x32x112\n",
    "        self.layer_3 = nn.Sequential()\n",
    "        self.layer_3.add_module('1', nn.Conv2d(128, 256, 3, padding=1))\n",
    "        self.layer_3.add_module('2', nn.BatchNorm2d(256))\n",
    "        self.layer_3.add_module('3', nn.LeakyReLU())\n",
    "        # Out - 256x32x112\n",
    "        \n",
    "        # In - 256x32x112\n",
    "        self.layer_4 = nn.Sequential()\n",
    "        self.layer_4.add_module('1', nn.Conv2d(256, 256, 3, padding=1))\n",
    "        self.layer_4.add_module('2', nn.BatchNorm2d(256))\n",
    "        self.layer_4.add_module('3', nn.LeakyReLU())\n",
    "        self.layer_4.add_module('4', nn.MaxPool2d(2, 2))\n",
    "        # Out - 256x16x56\n",
    "        \n",
    "        # In - 256x16x56\n",
    "        self.layer_5 = nn.Sequential()\n",
    "        self.layer_5.add_module('1', nn.Conv2d(256, 512, 3, padding=1))\n",
    "        self.layer_5.add_module('2', nn.BatchNorm2d(512))\n",
    "        self.layer_5.add_module('3', nn.LeakyReLU())\n",
    "        # Out - 512x16x56\n",
    "        \n",
    "        # In - 512x16x56\n",
    "        self.layer_6 = nn.Sequential()\n",
    "        self.layer_6.add_module('1', nn.Conv2d(512, 512, 3, padding=1))\n",
    "        self.layer_6.add_module('2', nn.BatchNorm2d(512))\n",
    "        self.layer_6.add_module('3', nn.LeakyReLU())\n",
    "        self.layer_6.add_module('4', nn.MaxPool2d(2, 2))\n",
    "        # Out - 512x8x28\n",
    "        \n",
    "        # In - 512x8x28\n",
    "        self.layer_7 = nn.Sequential()\n",
    "        self.layer_7.add_module('1', nn.Conv2d(512, 512, 3, padding=1))\n",
    "        self.layer_7.add_module('2', nn.BatchNorm2d(512))\n",
    "        self.layer_7.add_module('3', nn.LeakyReLU())\n",
    "        # Out - 512x8x28\n",
    "        \n",
    "        self.rnn_layers = nn.Sequential(\n",
    "            RNN2(8*512, 512, bidirectional=True, batch_first=True),\n",
    "            RNN2(2*512, 128, len_alphabet + 1, bidirectional=True, batch_first=True)\n",
    "        )\n",
    "        \n",
    "    \n",
    "    def forward(self, data):\n",
    "        \n",
    "        data = self.layer_1(data)\n",
    "        data = self.layer_2(data)\n",
    "        data = self.layer_3(data)\n",
    "        data = self.layer_4(data)\n",
    "        data = self.layer_5(data)\n",
    "        data = self.layer_6(data)\n",
    "        data = self.layer_7(data)\n",
    "        # bs, c, h, w\n",
    "        \n",
    "        bs, c, h, w = data.shape\n",
    "        \n",
    "        \"\"\"\n",
    "        N = batch size\n",
    "        L = sequence length\n",
    "        D = 2 if bidirectional=True otherwise 1\n",
    "        H_in = input_size\n",
    "        H_out = hidden_size\n",
    "        \"\"\"\n",
    "        \n",
    "        data = data.permute(0, 3, 1, 2).reshape(bs, w, c * h) # bs, w, h * c equal to N, L, H\n",
    "        data = self.rnn_layers(data) # N, L, len_alphabet\n",
    "        data = data.permute(1, 0, 2) # L, N, len_alphabet\n",
    "        \n",
    "        prob = torch.nn.functional.log_softmax(data, 2)\n",
    "        \n",
    "        return prob"
   ]
  },
  {
   "attachments": {},
   "cell_type": "markdown",
   "metadata": {},
   "source": [
    "Обычная оценка тестовых данных, без коррекции слов "
   ]
  },
  {
   "cell_type": "code",
   "execution_count": 22,
   "metadata": {},
   "outputs": [],
   "source": [
    "test_transform_2 = transforms.Compose([\n",
    "    transforms.RandomApply([transforms.Grayscale(1)], 1),\n",
    "    transforms.ColorJitter(contrast=(2, 3)),\n",
    "    transforms.Resize((64, 224)),\n",
    "    transforms.ToTensor()\n",
    "])\n",
    "\n",
    "test_data = HWTDataset(cfg.test.dir,\n",
    "                       cfg.test.labels,\n",
    "                       test_transform_2)"
   ]
  },
  {
   "cell_type": "code",
   "execution_count": 29,
   "metadata": {},
   "outputs": [],
   "source": [
    "model = Model2(len(train_alphabet))\n",
    "model.load_state_dict(torch.load('./M2_T2_L-0.0456_CER-0.0132_OLD.pth'))\n",
    "model.to(cfg.device)\n",
    "loader = torch.utils.data.DataLoader(test_data, batch_size = 16)\n",
    "evaluator = Evaluator(model, loader, coder)"
   ]
  },
  {
   "cell_type": "code",
   "execution_count": 30,
   "metadata": {},
   "outputs": [
    {
     "data": {
      "application/vnd.jupyter.widget-view+json": {
       "model_id": "d34d26cb80df4c69abda1cf2a0c2c75d",
       "version_major": 2,
       "version_minor": 0
      },
      "text/plain": [
       "  0%|          | 0/97 [00:00<?, ?it/s]"
      ]
     },
     "metadata": {},
     "output_type": "display_data"
    },
    {
     "data": {
      "text/plain": [
       "(tensor(0.2137), tensor(0.7228))"
      ]
     },
     "execution_count": 30,
     "metadata": {},
     "output_type": "execute_result"
    }
   ],
   "source": [
    "evaluator.evaluate()"
   ]
  },
  {
   "attachments": {},
   "cell_type": "markdown",
   "metadata": {},
   "source": [
    "С проверкой орфографии слов. Нужно заменить словарь и способ подбора похожих слов, он мне не очень нравится."
   ]
  },
  {
   "cell_type": "code",
   "execution_count": 30,
   "metadata": {},
   "outputs": [
    {
     "data": {
      "application/vnd.jupyter.widget-view+json": {
       "model_id": "18735389ccc8401c8328a3943dbfd40b",
       "version_major": 2,
       "version_minor": 0
      },
      "text/plain": [
       "  0%|          | 0/97 [00:00<?, ?it/s]"
      ]
     },
     "metadata": {},
     "output_type": "display_data"
    },
    {
     "ename": "KeyboardInterrupt",
     "evalue": "",
     "output_type": "error",
     "traceback": [
      "\u001b[1;31m---------------------------------------------------------------------------\u001b[0m",
      "\u001b[1;31mKeyboardInterrupt\u001b[0m                         Traceback (most recent call last)",
      "Cell \u001b[1;32mIn[30], line 1\u001b[0m\n\u001b[1;32m----> 1\u001b[0m evaluator\u001b[39m.\u001b[39;49mevaluate(\u001b[39mTrue\u001b[39;49;00m)\n",
      "Cell \u001b[1;32mIn[27], line 120\u001b[0m, in \u001b[0;36mEvaluator.evaluate\u001b[1;34m(self, correcting)\u001b[0m\n\u001b[0;32m    117\u001b[0m labels \u001b[39m=\u001b[39m []\n\u001b[0;32m    119\u001b[0m \u001b[39m# Get predictions\u001b[39;00m\n\u001b[1;32m--> 120\u001b[0m \u001b[39mfor\u001b[39;00m iteration, batch \u001b[39min\u001b[39;00m \u001b[39menumerate\u001b[39m(tqdm(\u001b[39mself\u001b[39m\u001b[39m.\u001b[39mloader)):\n\u001b[0;32m    121\u001b[0m     data, targets \u001b[39m=\u001b[39m batch[\u001b[39m0\u001b[39m]\u001b[39m.\u001b[39mto(DEVICE), batch[\u001b[39m1\u001b[39m]\n\u001b[0;32m    122\u001b[0m     labels\u001b[39m.\u001b[39mextend(targets)\n",
      "File \u001b[1;32mc:\\Users\\kozlo\\anaconda3\\lib\\site-packages\\tqdm\\notebook.py:259\u001b[0m, in \u001b[0;36mtqdm_notebook.__iter__\u001b[1;34m(self)\u001b[0m\n\u001b[0;32m    257\u001b[0m \u001b[39mtry\u001b[39;00m:\n\u001b[0;32m    258\u001b[0m     it \u001b[39m=\u001b[39m \u001b[39msuper\u001b[39m(tqdm_notebook, \u001b[39mself\u001b[39m)\u001b[39m.\u001b[39m\u001b[39m__iter__\u001b[39m()\n\u001b[1;32m--> 259\u001b[0m     \u001b[39mfor\u001b[39;00m obj \u001b[39min\u001b[39;00m it:\n\u001b[0;32m    260\u001b[0m         \u001b[39m# return super(tqdm...) will not catch exception\u001b[39;00m\n\u001b[0;32m    261\u001b[0m         \u001b[39myield\u001b[39;00m obj\n\u001b[0;32m    262\u001b[0m \u001b[39m# NB: except ... [ as ...] breaks IPython async KeyboardInterrupt\u001b[39;00m\n",
      "File \u001b[1;32mc:\\Users\\kozlo\\anaconda3\\lib\\site-packages\\tqdm\\std.py:1195\u001b[0m, in \u001b[0;36mtqdm.__iter__\u001b[1;34m(self)\u001b[0m\n\u001b[0;32m   1192\u001b[0m time \u001b[39m=\u001b[39m \u001b[39mself\u001b[39m\u001b[39m.\u001b[39m_time\n\u001b[0;32m   1194\u001b[0m \u001b[39mtry\u001b[39;00m:\n\u001b[1;32m-> 1195\u001b[0m     \u001b[39mfor\u001b[39;00m obj \u001b[39min\u001b[39;00m iterable:\n\u001b[0;32m   1196\u001b[0m         \u001b[39myield\u001b[39;00m obj\n\u001b[0;32m   1197\u001b[0m         \u001b[39m# Update and possibly print the progressbar.\u001b[39;00m\n\u001b[0;32m   1198\u001b[0m         \u001b[39m# Note: does not call self.update(1) for speed optimisation.\u001b[39;00m\n",
      "File \u001b[1;32mc:\\Users\\kozlo\\anaconda3\\lib\\site-packages\\torch\\utils\\data\\dataloader.py:628\u001b[0m, in \u001b[0;36m_BaseDataLoaderIter.__next__\u001b[1;34m(self)\u001b[0m\n\u001b[0;32m    625\u001b[0m \u001b[39mif\u001b[39;00m \u001b[39mself\u001b[39m\u001b[39m.\u001b[39m_sampler_iter \u001b[39mis\u001b[39;00m \u001b[39mNone\u001b[39;00m:\n\u001b[0;32m    626\u001b[0m     \u001b[39m# TODO(https://github.com/pytorch/pytorch/issues/76750)\u001b[39;00m\n\u001b[0;32m    627\u001b[0m     \u001b[39mself\u001b[39m\u001b[39m.\u001b[39m_reset()  \u001b[39m# type: ignore[call-arg]\u001b[39;00m\n\u001b[1;32m--> 628\u001b[0m data \u001b[39m=\u001b[39m \u001b[39mself\u001b[39;49m\u001b[39m.\u001b[39;49m_next_data()\n\u001b[0;32m    629\u001b[0m \u001b[39mself\u001b[39m\u001b[39m.\u001b[39m_num_yielded \u001b[39m+\u001b[39m\u001b[39m=\u001b[39m \u001b[39m1\u001b[39m\n\u001b[0;32m    630\u001b[0m \u001b[39mif\u001b[39;00m \u001b[39mself\u001b[39m\u001b[39m.\u001b[39m_dataset_kind \u001b[39m==\u001b[39m _DatasetKind\u001b[39m.\u001b[39mIterable \u001b[39mand\u001b[39;00m \\\n\u001b[0;32m    631\u001b[0m         \u001b[39mself\u001b[39m\u001b[39m.\u001b[39m_IterableDataset_len_called \u001b[39mis\u001b[39;00m \u001b[39mnot\u001b[39;00m \u001b[39mNone\u001b[39;00m \u001b[39mand\u001b[39;00m \\\n\u001b[0;32m    632\u001b[0m         \u001b[39mself\u001b[39m\u001b[39m.\u001b[39m_num_yielded \u001b[39m>\u001b[39m \u001b[39mself\u001b[39m\u001b[39m.\u001b[39m_IterableDataset_len_called:\n",
      "File \u001b[1;32mc:\\Users\\kozlo\\anaconda3\\lib\\site-packages\\torch\\utils\\data\\dataloader.py:671\u001b[0m, in \u001b[0;36m_SingleProcessDataLoaderIter._next_data\u001b[1;34m(self)\u001b[0m\n\u001b[0;32m    669\u001b[0m \u001b[39mdef\u001b[39;00m \u001b[39m_next_data\u001b[39m(\u001b[39mself\u001b[39m):\n\u001b[0;32m    670\u001b[0m     index \u001b[39m=\u001b[39m \u001b[39mself\u001b[39m\u001b[39m.\u001b[39m_next_index()  \u001b[39m# may raise StopIteration\u001b[39;00m\n\u001b[1;32m--> 671\u001b[0m     data \u001b[39m=\u001b[39m \u001b[39mself\u001b[39;49m\u001b[39m.\u001b[39;49m_dataset_fetcher\u001b[39m.\u001b[39;49mfetch(index)  \u001b[39m# may raise StopIteration\u001b[39;00m\n\u001b[0;32m    672\u001b[0m     \u001b[39mif\u001b[39;00m \u001b[39mself\u001b[39m\u001b[39m.\u001b[39m_pin_memory:\n\u001b[0;32m    673\u001b[0m         data \u001b[39m=\u001b[39m _utils\u001b[39m.\u001b[39mpin_memory\u001b[39m.\u001b[39mpin_memory(data, \u001b[39mself\u001b[39m\u001b[39m.\u001b[39m_pin_memory_device)\n",
      "File \u001b[1;32mc:\\Users\\kozlo\\anaconda3\\lib\\site-packages\\torch\\utils\\data\\_utils\\fetch.py:58\u001b[0m, in \u001b[0;36m_MapDatasetFetcher.fetch\u001b[1;34m(self, possibly_batched_index)\u001b[0m\n\u001b[0;32m     56\u001b[0m         data \u001b[39m=\u001b[39m \u001b[39mself\u001b[39m\u001b[39m.\u001b[39mdataset\u001b[39m.\u001b[39m__getitems__(possibly_batched_index)\n\u001b[0;32m     57\u001b[0m     \u001b[39melse\u001b[39;00m:\n\u001b[1;32m---> 58\u001b[0m         data \u001b[39m=\u001b[39m [\u001b[39mself\u001b[39m\u001b[39m.\u001b[39mdataset[idx] \u001b[39mfor\u001b[39;00m idx \u001b[39min\u001b[39;00m possibly_batched_index]\n\u001b[0;32m     59\u001b[0m \u001b[39melse\u001b[39;00m:\n\u001b[0;32m     60\u001b[0m     data \u001b[39m=\u001b[39m \u001b[39mself\u001b[39m\u001b[39m.\u001b[39mdataset[possibly_batched_index]\n",
      "File \u001b[1;32mc:\\Users\\kozlo\\anaconda3\\lib\\site-packages\\torch\\utils\\data\\_utils\\fetch.py:58\u001b[0m, in \u001b[0;36m<listcomp>\u001b[1;34m(.0)\u001b[0m\n\u001b[0;32m     56\u001b[0m         data \u001b[39m=\u001b[39m \u001b[39mself\u001b[39m\u001b[39m.\u001b[39mdataset\u001b[39m.\u001b[39m__getitems__(possibly_batched_index)\n\u001b[0;32m     57\u001b[0m     \u001b[39melse\u001b[39;00m:\n\u001b[1;32m---> 58\u001b[0m         data \u001b[39m=\u001b[39m [\u001b[39mself\u001b[39;49m\u001b[39m.\u001b[39;49mdataset[idx] \u001b[39mfor\u001b[39;00m idx \u001b[39min\u001b[39;00m possibly_batched_index]\n\u001b[0;32m     59\u001b[0m \u001b[39melse\u001b[39;00m:\n\u001b[0;32m     60\u001b[0m     data \u001b[39m=\u001b[39m \u001b[39mself\u001b[39m\u001b[39m.\u001b[39mdataset[possibly_batched_index]\n",
      "Cell \u001b[1;32mIn[6], line 35\u001b[0m, in \u001b[0;36mHWTDataset.__getitem__\u001b[1;34m(self, index)\u001b[0m\n\u001b[0;32m     32\u001b[0m img \u001b[39m=\u001b[39m Image\u001b[39m.\u001b[39mopen(path)\u001b[39m.\u001b[39mconvert(\u001b[39m'\u001b[39m\u001b[39mRGB\u001b[39m\u001b[39m'\u001b[39m)\n\u001b[0;32m     34\u001b[0m \u001b[39mif\u001b[39;00m \u001b[39mself\u001b[39m\u001b[39m.\u001b[39mtransforms \u001b[39mis\u001b[39;00m \u001b[39mnot\u001b[39;00m \u001b[39mNone\u001b[39;00m:\n\u001b[1;32m---> 35\u001b[0m     img \u001b[39m=\u001b[39m \u001b[39mself\u001b[39;49m\u001b[39m.\u001b[39;49mtransforms(img)\n\u001b[0;32m     37\u001b[0m \u001b[39mreturn\u001b[39;00m img, label\n",
      "File \u001b[1;32mc:\\Users\\kozlo\\anaconda3\\lib\\site-packages\\torchvision\\transforms\\transforms.py:95\u001b[0m, in \u001b[0;36mCompose.__call__\u001b[1;34m(self, img)\u001b[0m\n\u001b[0;32m     93\u001b[0m \u001b[39mdef\u001b[39;00m \u001b[39m__call__\u001b[39m(\u001b[39mself\u001b[39m, img):\n\u001b[0;32m     94\u001b[0m     \u001b[39mfor\u001b[39;00m t \u001b[39min\u001b[39;00m \u001b[39mself\u001b[39m\u001b[39m.\u001b[39mtransforms:\n\u001b[1;32m---> 95\u001b[0m         img \u001b[39m=\u001b[39m t(img)\n\u001b[0;32m     96\u001b[0m     \u001b[39mreturn\u001b[39;00m img\n",
      "File \u001b[1;32mc:\\Users\\kozlo\\anaconda3\\lib\\site-packages\\torch\\nn\\modules\\module.py:1190\u001b[0m, in \u001b[0;36mModule._call_impl\u001b[1;34m(self, *input, **kwargs)\u001b[0m\n\u001b[0;32m   1186\u001b[0m \u001b[39m# If we don't have any hooks, we want to skip the rest of the logic in\u001b[39;00m\n\u001b[0;32m   1187\u001b[0m \u001b[39m# this function, and just call forward.\u001b[39;00m\n\u001b[0;32m   1188\u001b[0m \u001b[39mif\u001b[39;00m \u001b[39mnot\u001b[39;00m (\u001b[39mself\u001b[39m\u001b[39m.\u001b[39m_backward_hooks \u001b[39mor\u001b[39;00m \u001b[39mself\u001b[39m\u001b[39m.\u001b[39m_forward_hooks \u001b[39mor\u001b[39;00m \u001b[39mself\u001b[39m\u001b[39m.\u001b[39m_forward_pre_hooks \u001b[39mor\u001b[39;00m _global_backward_hooks\n\u001b[0;32m   1189\u001b[0m         \u001b[39mor\u001b[39;00m _global_forward_hooks \u001b[39mor\u001b[39;00m _global_forward_pre_hooks):\n\u001b[1;32m-> 1190\u001b[0m     \u001b[39mreturn\u001b[39;00m forward_call(\u001b[39m*\u001b[39m\u001b[39minput\u001b[39m, \u001b[39m*\u001b[39m\u001b[39m*\u001b[39mkwargs)\n\u001b[0;32m   1191\u001b[0m \u001b[39m# Do not call functions when jit is used\u001b[39;00m\n\u001b[0;32m   1192\u001b[0m full_backward_hooks, non_full_backward_hooks \u001b[39m=\u001b[39m [], []\n",
      "File \u001b[1;32mc:\\Users\\kozlo\\anaconda3\\lib\\site-packages\\torchvision\\transforms\\transforms.py:532\u001b[0m, in \u001b[0;36mRandomApply.forward\u001b[1;34m(self, img)\u001b[0m\n\u001b[0;32m    530\u001b[0m     \u001b[39mreturn\u001b[39;00m img\n\u001b[0;32m    531\u001b[0m \u001b[39mfor\u001b[39;00m t \u001b[39min\u001b[39;00m \u001b[39mself\u001b[39m\u001b[39m.\u001b[39mtransforms:\n\u001b[1;32m--> 532\u001b[0m     img \u001b[39m=\u001b[39m t(img)\n\u001b[0;32m    533\u001b[0m \u001b[39mreturn\u001b[39;00m img\n",
      "File \u001b[1;32mc:\\Users\\kozlo\\anaconda3\\lib\\site-packages\\torch\\nn\\modules\\module.py:1190\u001b[0m, in \u001b[0;36mModule._call_impl\u001b[1;34m(self, *input, **kwargs)\u001b[0m\n\u001b[0;32m   1186\u001b[0m \u001b[39m# If we don't have any hooks, we want to skip the rest of the logic in\u001b[39;00m\n\u001b[0;32m   1187\u001b[0m \u001b[39m# this function, and just call forward.\u001b[39;00m\n\u001b[0;32m   1188\u001b[0m \u001b[39mif\u001b[39;00m \u001b[39mnot\u001b[39;00m (\u001b[39mself\u001b[39m\u001b[39m.\u001b[39m_backward_hooks \u001b[39mor\u001b[39;00m \u001b[39mself\u001b[39m\u001b[39m.\u001b[39m_forward_hooks \u001b[39mor\u001b[39;00m \u001b[39mself\u001b[39m\u001b[39m.\u001b[39m_forward_pre_hooks \u001b[39mor\u001b[39;00m _global_backward_hooks\n\u001b[0;32m   1189\u001b[0m         \u001b[39mor\u001b[39;00m _global_forward_hooks \u001b[39mor\u001b[39;00m _global_forward_pre_hooks):\n\u001b[1;32m-> 1190\u001b[0m     \u001b[39mreturn\u001b[39;00m forward_call(\u001b[39m*\u001b[39m\u001b[39minput\u001b[39m, \u001b[39m*\u001b[39m\u001b[39m*\u001b[39mkwargs)\n\u001b[0;32m   1191\u001b[0m \u001b[39m# Do not call functions when jit is used\u001b[39;00m\n\u001b[0;32m   1192\u001b[0m full_backward_hooks, non_full_backward_hooks \u001b[39m=\u001b[39m [], []\n",
      "File \u001b[1;32mc:\\Users\\kozlo\\anaconda3\\lib\\site-packages\\torchvision\\transforms\\transforms.py:1560\u001b[0m, in \u001b[0;36mGrayscale.forward\u001b[1;34m(self, img)\u001b[0m\n\u001b[0;32m   1552\u001b[0m \u001b[39mdef\u001b[39;00m \u001b[39mforward\u001b[39m(\u001b[39mself\u001b[39m, img):\n\u001b[0;32m   1553\u001b[0m     \u001b[39m\"\"\"\u001b[39;00m\n\u001b[0;32m   1554\u001b[0m \u001b[39m    Args:\u001b[39;00m\n\u001b[0;32m   1555\u001b[0m \u001b[39m        img (PIL Image or Tensor): Image to be converted to grayscale.\u001b[39;00m\n\u001b[1;32m   (...)\u001b[0m\n\u001b[0;32m   1558\u001b[0m \u001b[39m        PIL Image or Tensor: Grayscaled image.\u001b[39;00m\n\u001b[0;32m   1559\u001b[0m \u001b[39m    \"\"\"\u001b[39;00m\n\u001b[1;32m-> 1560\u001b[0m     \u001b[39mreturn\u001b[39;00m F\u001b[39m.\u001b[39;49mrgb_to_grayscale(img, num_output_channels\u001b[39m=\u001b[39;49m\u001b[39mself\u001b[39;49m\u001b[39m.\u001b[39;49mnum_output_channels)\n",
      "File \u001b[1;32mc:\\Users\\kozlo\\anaconda3\\lib\\site-packages\\torchvision\\transforms\\functional.py:1277\u001b[0m, in \u001b[0;36mrgb_to_grayscale\u001b[1;34m(img, num_output_channels)\u001b[0m\n\u001b[0;32m   1275\u001b[0m     _log_api_usage_once(rgb_to_grayscale)\n\u001b[0;32m   1276\u001b[0m \u001b[39mif\u001b[39;00m \u001b[39mnot\u001b[39;00m \u001b[39misinstance\u001b[39m(img, torch\u001b[39m.\u001b[39mTensor):\n\u001b[1;32m-> 1277\u001b[0m     \u001b[39mreturn\u001b[39;00m F_pil\u001b[39m.\u001b[39;49mto_grayscale(img, num_output_channels)\n\u001b[0;32m   1279\u001b[0m \u001b[39mreturn\u001b[39;00m F_t\u001b[39m.\u001b[39mrgb_to_grayscale(img, num_output_channels)\n",
      "File \u001b[1;32mc:\\Users\\kozlo\\anaconda3\\lib\\site-packages\\torchvision\\transforms\\functional_pil.py:339\u001b[0m, in \u001b[0;36mto_grayscale\u001b[1;34m(img, num_output_channels)\u001b[0m\n\u001b[0;32m    336\u001b[0m     \u001b[39mraise\u001b[39;00m \u001b[39mTypeError\u001b[39;00m(\u001b[39mf\u001b[39m\u001b[39m\"\u001b[39m\u001b[39mimg should be PIL Image. Got \u001b[39m\u001b[39m{\u001b[39;00m\u001b[39mtype\u001b[39m(img)\u001b[39m}\u001b[39;00m\u001b[39m\"\u001b[39m)\n\u001b[0;32m    338\u001b[0m \u001b[39mif\u001b[39;00m num_output_channels \u001b[39m==\u001b[39m \u001b[39m1\u001b[39m:\n\u001b[1;32m--> 339\u001b[0m     img \u001b[39m=\u001b[39m img\u001b[39m.\u001b[39;49mconvert(\u001b[39m\"\u001b[39;49m\u001b[39mL\u001b[39;49m\u001b[39m\"\u001b[39;49m)\n\u001b[0;32m    340\u001b[0m \u001b[39melif\u001b[39;00m num_output_channels \u001b[39m==\u001b[39m \u001b[39m3\u001b[39m:\n\u001b[0;32m    341\u001b[0m     img \u001b[39m=\u001b[39m img\u001b[39m.\u001b[39mconvert(\u001b[39m\"\u001b[39m\u001b[39mL\u001b[39m\u001b[39m\"\u001b[39m)\n",
      "File \u001b[1;32mc:\\Users\\kozlo\\anaconda3\\lib\\site-packages\\PIL\\Image.py:1030\u001b[0m, in \u001b[0;36mImage.convert\u001b[1;34m(self, mode, matrix, dither, palette, colors)\u001b[0m\n\u001b[0;32m   1027\u001b[0m     dither \u001b[39m=\u001b[39m Dither\u001b[39m.\u001b[39mFLOYDSTEINBERG\n\u001b[0;32m   1029\u001b[0m \u001b[39mtry\u001b[39;00m:\n\u001b[1;32m-> 1030\u001b[0m     im \u001b[39m=\u001b[39m \u001b[39mself\u001b[39;49m\u001b[39m.\u001b[39;49mim\u001b[39m.\u001b[39;49mconvert(mode, dither)\n\u001b[0;32m   1031\u001b[0m \u001b[39mexcept\u001b[39;00m \u001b[39mValueError\u001b[39;00m:\n\u001b[0;32m   1032\u001b[0m     \u001b[39mtry\u001b[39;00m:\n\u001b[0;32m   1033\u001b[0m         \u001b[39m# normalize source image and try again\u001b[39;00m\n",
      "\u001b[1;31mKeyboardInterrupt\u001b[0m: "
     ]
    }
   ],
   "source": [
    "evaluator.evaluate(True)"
   ]
  },
  {
   "attachments": {},
   "cell_type": "markdown",
   "metadata": {},
   "source": [
    "Видно, что CER немного поднялся, однако качество определения слов возросло на 12%"
   ]
  },
  {
   "attachments": {},
   "cell_type": "markdown",
   "metadata": {},
   "source": [
    "Посмотрим какие символы чаще путает наша модель, а также ошибки в зависимости от длины последовательности. На основе этой статистики возможно реализовать замену вероятных ошибочных символов и искать ближайшее совпадение в словаре (с учетом того, что в нашем тексте нет требований к сохранению четкой орфографии писавшего человека). А на основе соотношения длины к ошибке можно изменить модель - увеличить или уменьшить входящую в RNN последовательность"
   ]
  },
  {
   "cell_type": "code",
   "execution_count": 31,
   "metadata": {},
   "outputs": [
    {
     "name": "stdout",
     "output_type": "stream",
     "text": [
      "{'и': {'л': 11, 'е': 16, 'н': 22}, 'о': {'е': 12, 'а': 34}, 'я': {'е': 11}, 'с': {'е': 20}, 'н': {'п': 10, 'к': 16, 'м': 18}, 'а': {'о': 11}, 'е': {'и': 17, 'с': 12, 'я': 10}, 'к': {'н': 19, 'х': 11}, 'г': {'т': 10}, 'л': {'м': 12}}\n"
     ]
    }
   ],
   "source": [
    "stat = evaluator.errors_sym_stat()\n",
    "print(stat[0])"
   ]
  },
  {
   "cell_type": "code",
   "execution_count": 32,
   "metadata": {},
   "outputs": [
    {
     "name": "stdout",
     "output_type": "stream",
     "text": [
      "{'и': {'л': 11, 'е': 16, 'н': 22}, 'о': {'е': 12, 'а': 34}, 'я': {'е': 11}, 'с': {'е': 20}, 'н': {'п': 10, 'к': 16, 'м': 18}, 'а': {'о': 11}, 'е': {'и': 17, 'с': 12, 'я': 10}, 'к': {'н': 19, 'х': 11}, 'г': {'т': 10}, 'л': {'м': 12}}\n"
     ]
    }
   ],
   "source": [
    "stat[0]['PKFWO'] = 1835\n",
    "print(evaluator.symbol_err)"
   ]
  },
  {
   "attachments": {},
   "cell_type": "markdown",
   "metadata": {},
   "source": [
    "Посмотрим на CER в зависимости от длины последовательности"
   ]
  },
  {
   "cell_type": "code",
   "execution_count": 27,
   "metadata": {},
   "outputs": [
    {
     "data": {
      "text/plain": [
       "<matplotlib.legend.Legend at 0x21281149220>"
      ]
     },
     "execution_count": 27,
     "metadata": {},
     "output_type": "execute_result"
    },
    {
     "data": {
      "image/png": "[encoded data removed]",
      "text/plain": [
       "<Figure size 640x480 with 1 Axes>"
      ]
     },
     "metadata": {},
     "output_type": "display_data"
    }
   ],
   "source": [
    "x = list(dict(sorted(stat[1].items())).keys())\n",
    "y = dict(sorted(stat[1].items())).values()\n",
    "\n",
    "plt.ylabel('CER')\n",
    "plt.xlabel('Длина последовательности')\n",
    "plt.xticks(x)\n",
    "plt.scatter(x, y, color = 'red', label = 'CER последовательности')\n",
    "plt.plot(x, [0.197 for i in x], color = 'blue', label = 'CER на всей выборке')\n",
    "plt.legend(loc='best')"
   ]
  },
  {
   "attachments": {},
   "cell_type": "markdown",
   "metadata": {},
   "source": [
    "Посмотрим на этот же график на тренировочных данных. Ограничение последовательности нашей модели - 28 знаков, поэтому значение CER начало сильно увеличиваться уже после 20-21 знака"
   ]
  },
  {
   "cell_type": "code",
   "execution_count": 28,
   "metadata": {},
   "outputs": [
    {
     "data": {
      "application/vnd.jupyter.widget-view+json": {
       "model_id": "e955538fc23e4bb3ad9bb446fe343a2b",
       "version_major": 2,
       "version_minor": 0
      },
      "text/plain": [
       "  0%|          | 0/4518 [00:00<?, ?it/s]"
      ]
     },
     "metadata": {},
     "output_type": "display_data"
    },
    {
     "data": {
      "text/plain": [
       "<matplotlib.legend.Legend at 0x212d0afabb0>"
      ]
     },
     "execution_count": 28,
     "metadata": {},
     "output_type": "execute_result"
    },
    {
     "data": {
      "image/png": "[encoded data removed]",
      "text/plain": [
       "<Figure size 640x480 with 1 Axes>"
      ]
     },
     "metadata": {},
     "output_type": "display_data"
    }
   ],
   "source": [
    "loader = torch.utils.data.DataLoader(train_data, batch_size = 16)\n",
    "evaluator = Evaluator(model, loader, coder)\n",
    "stat = evaluator.errors_sym_stat()\n",
    "\n",
    "x = list(dict(sorted(stat[1].items())).keys())\n",
    "y = dict(sorted(stat[1].items())).values()\n",
    "\n",
    "plt.ylabel('CER')\n",
    "plt.xlabel('Длина последовательности')\n",
    "plt.xticks(x)\n",
    "plt.scatter(x, y, color = 'red', label = 'CER последовательности')\n",
    "plt.plot(x, [0.197 for i in x], color = 'blue', label = 'CER на всей выборке')\n",
    "plt.legend(loc='best')"
   ]
  },
  {
   "attachments": {},
   "cell_type": "markdown",
   "metadata": {},
   "source": [
    "После добавления нового датасета, решил протестировать модель на новых данных. Результат оказался неплохим - CER = 0.26, WER = 0.75. То есть после добавления абсолютно новых данных сеть ухудшила показатели на 10%."
   ]
  },
  {
   "cell_type": "code",
   "execution_count": 90,
   "metadata": {},
   "outputs": [],
   "source": [
    "test_data = HWTDataset('./dataset/test/', './dataset/test.tsv', test_transform_2)\n",
    "loader = torch.utils.data.DataLoader(test_data, batch_size = 16)\n",
    "evaluator = Evaluator(model, loader, coder)"
   ]
  },
  {
   "cell_type": "code",
   "execution_count": 91,
   "metadata": {},
   "outputs": [
    {
     "data": {
      "application/vnd.jupyter.widget-view+json": {
       "model_id": "0eeb3b0290474340a3052a225bae1e44",
       "version_major": 2,
       "version_minor": 0
      },
      "text/plain": [
       "  0%|          | 0/676 [00:00<?, ?it/s]"
      ]
     },
     "metadata": {},
     "output_type": "display_data"
    },
    {
     "ename": "AttributeError",
     "evalue": "type object 'Image' has no attribute 'open'",
     "output_type": "error",
     "traceback": [
      "\u001b[1;31m---------------------------------------------------------------------------\u001b[0m",
      "\u001b[1;31mAttributeError\u001b[0m                            Traceback (most recent call last)",
      "Cell \u001b[1;32mIn[91], line 1\u001b[0m\n\u001b[1;32m----> 1\u001b[0m evaluator\u001b[39m.\u001b[39;49mevaluate()\n",
      "Cell \u001b[1;32mIn[19], line 120\u001b[0m, in \u001b[0;36mEvaluator.evaluate\u001b[1;34m(self, correcting)\u001b[0m\n\u001b[0;32m    117\u001b[0m labels \u001b[39m=\u001b[39m []\n\u001b[0;32m    119\u001b[0m \u001b[39m# Get predictions\u001b[39;00m\n\u001b[1;32m--> 120\u001b[0m \u001b[39mfor\u001b[39;00m iteration, batch \u001b[39min\u001b[39;00m \u001b[39menumerate\u001b[39m(tqdm(\u001b[39mself\u001b[39m\u001b[39m.\u001b[39mloader)):\n\u001b[0;32m    121\u001b[0m     data, targets \u001b[39m=\u001b[39m batch[\u001b[39m0\u001b[39m]\u001b[39m.\u001b[39mto(DEVICE), batch[\u001b[39m1\u001b[39m]\n\u001b[0;32m    122\u001b[0m     labels\u001b[39m.\u001b[39mextend(targets)\n",
      "File \u001b[1;32mc:\\Users\\kozlo\\anaconda3\\lib\\site-packages\\tqdm\\notebook.py:259\u001b[0m, in \u001b[0;36mtqdm_notebook.__iter__\u001b[1;34m(self)\u001b[0m\n\u001b[0;32m    257\u001b[0m \u001b[39mtry\u001b[39;00m:\n\u001b[0;32m    258\u001b[0m     it \u001b[39m=\u001b[39m \u001b[39msuper\u001b[39m(tqdm_notebook, \u001b[39mself\u001b[39m)\u001b[39m.\u001b[39m\u001b[39m__iter__\u001b[39m()\n\u001b[1;32m--> 259\u001b[0m     \u001b[39mfor\u001b[39;00m obj \u001b[39min\u001b[39;00m it:\n\u001b[0;32m    260\u001b[0m         \u001b[39m# return super(tqdm...) will not catch exception\u001b[39;00m\n\u001b[0;32m    261\u001b[0m         \u001b[39myield\u001b[39;00m obj\n\u001b[0;32m    262\u001b[0m \u001b[39m# NB: except ... [ as ...] breaks IPython async KeyboardInterrupt\u001b[39;00m\n",
      "File \u001b[1;32mc:\\Users\\kozlo\\anaconda3\\lib\\site-packages\\tqdm\\std.py:1195\u001b[0m, in \u001b[0;36mtqdm.__iter__\u001b[1;34m(self)\u001b[0m\n\u001b[0;32m   1192\u001b[0m time \u001b[39m=\u001b[39m \u001b[39mself\u001b[39m\u001b[39m.\u001b[39m_time\n\u001b[0;32m   1194\u001b[0m \u001b[39mtry\u001b[39;00m:\n\u001b[1;32m-> 1195\u001b[0m     \u001b[39mfor\u001b[39;00m obj \u001b[39min\u001b[39;00m iterable:\n\u001b[0;32m   1196\u001b[0m         \u001b[39myield\u001b[39;00m obj\n\u001b[0;32m   1197\u001b[0m         \u001b[39m# Update and possibly print the progressbar.\u001b[39;00m\n\u001b[0;32m   1198\u001b[0m         \u001b[39m# Note: does not call self.update(1) for speed optimisation.\u001b[39;00m\n",
      "File \u001b[1;32mc:\\Users\\kozlo\\anaconda3\\lib\\site-packages\\torch\\utils\\data\\dataloader.py:628\u001b[0m, in \u001b[0;36m_BaseDataLoaderIter.__next__\u001b[1;34m(self)\u001b[0m\n\u001b[0;32m    625\u001b[0m \u001b[39mif\u001b[39;00m \u001b[39mself\u001b[39m\u001b[39m.\u001b[39m_sampler_iter \u001b[39mis\u001b[39;00m \u001b[39mNone\u001b[39;00m:\n\u001b[0;32m    626\u001b[0m     \u001b[39m# TODO(https://github.com/pytorch/pytorch/issues/76750)\u001b[39;00m\n\u001b[0;32m    627\u001b[0m     \u001b[39mself\u001b[39m\u001b[39m.\u001b[39m_reset()  \u001b[39m# type: ignore[call-arg]\u001b[39;00m\n\u001b[1;32m--> 628\u001b[0m data \u001b[39m=\u001b[39m \u001b[39mself\u001b[39;49m\u001b[39m.\u001b[39;49m_next_data()\n\u001b[0;32m    629\u001b[0m \u001b[39mself\u001b[39m\u001b[39m.\u001b[39m_num_yielded \u001b[39m+\u001b[39m\u001b[39m=\u001b[39m \u001b[39m1\u001b[39m\n\u001b[0;32m    630\u001b[0m \u001b[39mif\u001b[39;00m \u001b[39mself\u001b[39m\u001b[39m.\u001b[39m_dataset_kind \u001b[39m==\u001b[39m _DatasetKind\u001b[39m.\u001b[39mIterable \u001b[39mand\u001b[39;00m \\\n\u001b[0;32m    631\u001b[0m         \u001b[39mself\u001b[39m\u001b[39m.\u001b[39m_IterableDataset_len_called \u001b[39mis\u001b[39;00m \u001b[39mnot\u001b[39;00m \u001b[39mNone\u001b[39;00m \u001b[39mand\u001b[39;00m \\\n\u001b[0;32m    632\u001b[0m         \u001b[39mself\u001b[39m\u001b[39m.\u001b[39m_num_yielded \u001b[39m>\u001b[39m \u001b[39mself\u001b[39m\u001b[39m.\u001b[39m_IterableDataset_len_called:\n",
      "File \u001b[1;32mc:\\Users\\kozlo\\anaconda3\\lib\\site-packages\\torch\\utils\\data\\dataloader.py:671\u001b[0m, in \u001b[0;36m_SingleProcessDataLoaderIter._next_data\u001b[1;34m(self)\u001b[0m\n\u001b[0;32m    669\u001b[0m \u001b[39mdef\u001b[39;00m \u001b[39m_next_data\u001b[39m(\u001b[39mself\u001b[39m):\n\u001b[0;32m    670\u001b[0m     index \u001b[39m=\u001b[39m \u001b[39mself\u001b[39m\u001b[39m.\u001b[39m_next_index()  \u001b[39m# may raise StopIteration\u001b[39;00m\n\u001b[1;32m--> 671\u001b[0m     data \u001b[39m=\u001b[39m \u001b[39mself\u001b[39;49m\u001b[39m.\u001b[39;49m_dataset_fetcher\u001b[39m.\u001b[39;49mfetch(index)  \u001b[39m# may raise StopIteration\u001b[39;00m\n\u001b[0;32m    672\u001b[0m     \u001b[39mif\u001b[39;00m \u001b[39mself\u001b[39m\u001b[39m.\u001b[39m_pin_memory:\n\u001b[0;32m    673\u001b[0m         data \u001b[39m=\u001b[39m _utils\u001b[39m.\u001b[39mpin_memory\u001b[39m.\u001b[39mpin_memory(data, \u001b[39mself\u001b[39m\u001b[39m.\u001b[39m_pin_memory_device)\n",
      "File \u001b[1;32mc:\\Users\\kozlo\\anaconda3\\lib\\site-packages\\torch\\utils\\data\\_utils\\fetch.py:58\u001b[0m, in \u001b[0;36m_MapDatasetFetcher.fetch\u001b[1;34m(self, possibly_batched_index)\u001b[0m\n\u001b[0;32m     56\u001b[0m         data \u001b[39m=\u001b[39m \u001b[39mself\u001b[39m\u001b[39m.\u001b[39mdataset\u001b[39m.\u001b[39m__getitems__(possibly_batched_index)\n\u001b[0;32m     57\u001b[0m     \u001b[39melse\u001b[39;00m:\n\u001b[1;32m---> 58\u001b[0m         data \u001b[39m=\u001b[39m [\u001b[39mself\u001b[39m\u001b[39m.\u001b[39mdataset[idx] \u001b[39mfor\u001b[39;00m idx \u001b[39min\u001b[39;00m possibly_batched_index]\n\u001b[0;32m     59\u001b[0m \u001b[39melse\u001b[39;00m:\n\u001b[0;32m     60\u001b[0m     data \u001b[39m=\u001b[39m \u001b[39mself\u001b[39m\u001b[39m.\u001b[39mdataset[possibly_batched_index]\n",
      "File \u001b[1;32mc:\\Users\\kozlo\\anaconda3\\lib\\site-packages\\torch\\utils\\data\\_utils\\fetch.py:58\u001b[0m, in \u001b[0;36m<listcomp>\u001b[1;34m(.0)\u001b[0m\n\u001b[0;32m     56\u001b[0m         data \u001b[39m=\u001b[39m \u001b[39mself\u001b[39m\u001b[39m.\u001b[39mdataset\u001b[39m.\u001b[39m__getitems__(possibly_batched_index)\n\u001b[0;32m     57\u001b[0m     \u001b[39melse\u001b[39;00m:\n\u001b[1;32m---> 58\u001b[0m         data \u001b[39m=\u001b[39m [\u001b[39mself\u001b[39;49m\u001b[39m.\u001b[39;49mdataset[idx] \u001b[39mfor\u001b[39;00m idx \u001b[39min\u001b[39;00m possibly_batched_index]\n\u001b[0;32m     59\u001b[0m \u001b[39melse\u001b[39;00m:\n\u001b[0;32m     60\u001b[0m     data \u001b[39m=\u001b[39m \u001b[39mself\u001b[39m\u001b[39m.\u001b[39mdataset[possibly_batched_index]\n",
      "Cell \u001b[1;32mIn[6], line 32\u001b[0m, in \u001b[0;36mHWTDataset.__getitem__\u001b[1;34m(self, index)\u001b[0m\n\u001b[0;32m     29\u001b[0m \u001b[39mdef\u001b[39;00m \u001b[39m__getitem__\u001b[39m(\u001b[39mself\u001b[39m, index: \u001b[39mint\u001b[39m) \u001b[39m-\u001b[39m\u001b[39m>\u001b[39m \u001b[39mtuple\u001b[39m[Tensor, \u001b[39mstr\u001b[39m]:\n\u001b[0;32m     31\u001b[0m     path, label \u001b[39m=\u001b[39m \u001b[39mself\u001b[39m\u001b[39m.\u001b[39mdata[index]\n\u001b[1;32m---> 32\u001b[0m     img \u001b[39m=\u001b[39m Image\u001b[39m.\u001b[39;49mopen(path)\u001b[39m.\u001b[39mconvert(\u001b[39m'\u001b[39m\u001b[39mRGB\u001b[39m\u001b[39m'\u001b[39m)\n\u001b[0;32m     34\u001b[0m     \u001b[39mif\u001b[39;00m \u001b[39mself\u001b[39m\u001b[39m.\u001b[39mtransforms \u001b[39mis\u001b[39;00m \u001b[39mnot\u001b[39;00m \u001b[39mNone\u001b[39;00m:\n\u001b[0;32m     35\u001b[0m         img \u001b[39m=\u001b[39m \u001b[39mself\u001b[39m\u001b[39m.\u001b[39mtransforms(img)\n",
      "\u001b[1;31mAttributeError\u001b[0m: type object 'Image' has no attribute 'open'"
     ]
    }
   ],
   "source": [
    "evaluator.evaluate()"
   ]
  },
  {
   "attachments": {},
   "cell_type": "markdown",
   "metadata": {},
   "source": [
    "Аналогично проверим результаты с коррекцией слов:"
   ]
  },
  {
   "cell_type": "code",
   "execution_count": 31,
   "metadata": {},
   "outputs": [
    {
     "data": {
      "application/vnd.jupyter.widget-view+json": {
       "model_id": "c6983d585cd34e44bde7a2bd42c4170d",
       "version_major": 2,
       "version_minor": 0
      },
      "text/plain": [
       "  0%|          | 0/676 [00:00<?, ?it/s]"
      ]
     },
     "metadata": {},
     "output_type": "display_data"
    },
    {
     "data": {
      "application/vnd.jupyter.widget-view+json": {
       "model_id": "f19595358558440da487d597eee95066",
       "version_major": 2,
       "version_minor": 0
      },
      "text/plain": [
       "  0%|          | 0/10809 [00:00<?, ?it/s]"
      ]
     },
     "metadata": {},
     "output_type": "display_data"
    },
    {
     "data": {
      "text/plain": [
       "(tensor(0.4385), tensor(0.7472))"
      ]
     },
     "execution_count": 31,
     "metadata": {},
     "output_type": "execute_result"
    }
   ],
   "source": [
    "evaluator.evaluate(True)"
   ]
  },
  {
   "cell_type": "code",
   "execution_count": 85,
   "metadata": {},
   "outputs": [
    {
     "name": "stdout",
     "output_type": "stream",
     "text": [
      "{'т': <filter object at 0x000002128AC6F4C0>, 'н': {'п': 41, 'е': 20, 'а': 38, 'л': 42, 'р': 27, 'о': 41, 'ч': 17, 'и': 84, 'к': 196, 'ы': 37, 'ж': 34, 'т': 38, ' ': 14, 'с': 29, 'м': 58, 'Н': 101, 'ш': 28, 'А': 16}, 'р': {'п': 27, 'е': 26, 'а': 30, 'л': 14, 'о': 19, 'и': 10, 'к': 22, 'н': 13, 'К': 23, 'т': 15, 'д': 34, 'у': 10, 'з': 18, 'А': 18, 'Р': 62}, 'а': {'п': 11, 'е': 26, 'л': 30, 'о': 83, 'и': 25, 'к': 22, 'ы': 34, 'н': 21, 'т': 21, 'с': 28, 'д': 17, 'м': 15, 'я': 42, 'з': 11, 'х': 14, 'А': 193, 'Я': 11}, 'к': {'п': 12, 'е': 11, 'а': 39, 'л': 12, 'р': 11, 'о': 14, 'н': 93, 'К': 201, 'т': 11, 'с': 24, 'х': 31}, 'г': {'п': 24, 'а': 20, 'л': 21, 'р': 19, 'о': 25, 'ч': 55, 'к': 11, 'ы': 28, 'т': 30, 'Г': 12}, 'л': {'п': 37, 'е': 38, 'а': 33, 'р': 15, 'о': 26, 'и': 56, 'к': 37, 'ы': 11, 'н': 45, 'г': 21, 'М': 10, 'т': 12, ' ': 15, 'с': 20, 'м': 116, 'я': 37, 'ш': 14, 'ь': 13, 'Л': 72}, ' ': {'п': 13, 'е': 14, 'а': 12, 'л': 15, 'о': 25, 'и': 11, 'к': 14, 'н': 17, 'К': 13, 'т': 18, 'в': 15, 'с': 24, 'м': 17, 'я': 12, '-': 29}, 'о': {'п': 12, 'е': 38, 'а': 491, 'л': 23, 'р': 29, 'к': 13, 'ы': 94, 'н': 28, 'О': 75, 'т': 23, ' ': 20, 'в': 47, 'с': 38, 'д': 23, 'м': 17, 'я': 10, 'б': 28, 'ю': 41, 'й': 10, 'А': 12, 'ь': 22, 'Ю': 14}, 'я': {'е': 40, 'а': 80, 'л': 65, 'т': 13, ' ': 18, 'м': 10, 'х': 15, 'А': 15, 'Я': 104}, 'в': {'е': 30, 'а': 14, 'о': 14, 'В': 43, 'К': 53, ' ': 14, 'с': 11, 'б': 18, 'Н': 19, 'А': 10, 'ь': 32, 'З': 24}, 'с': {'е': 70, 'а': 42, 'о': 25, 'ч': 10, 'и': 18, 'к': 60, 'К': 13, 'т': 25, ' ': 15, 'С': 216, 'х': 10, 'Е': 11}, 'и': {'е': 44, 'а': 112, 'л': 79, 'р': 10, 'ч': 22, 'к': 53, 'ы': 32, 'н': 125, 'т': 34, 'с': 25, 'И': 140, 'м': 49, 'я': 19, 'у': 23, 'ш': 63, 'й': 48}, 'ч': {'е': 16, 'и': 13, 'н': 14, 'г': 48, 'т': 10}, 'м': {'е': 10, 'а': 20, 'л': 89, 'и': 39, 'н': 47, 'М': 54, 'т': 12, ' ': 14, 'Ш': 11, 'ш': 46, 'й': 17}, 'е': {'а': 39, 'л': 47, 'р': 13, 'о': 30, 'и': 83, 'к': 20, 'н': 43, 'т': 23, ' ': 20, 'в': 15, 'с': 104, 'д': 12, 'я': 64, 'Е': 30}, 'А': {'а': 10}, 'д': {'а': 22, 'о': 21, 'Д': 13, 'я': 14, 'б': 11, 'у': 26, 'з': 23, 'А': 15, 'Я': 12}, 'ы': {'а': 19, 'о': 11, 'ь': 15, 'Ы': 32}, 'з': {'а': 18, 'д': 20, 'у': 18, 'З': 47}, 'п': {'а': 11, 'л': 59, 'р': 31, 'о': 18, 'к': 36, 'ы': 29, 'н': 30, 'К': 13, 'г': 10, 'т': 84, ' ': 13, 'П': 13}, 'ь': {'о': 12, 'ы': 26, 'т': 11, ',': 10}, 'ю': {'о': 23}, '0': {'о': 12}, 'О': {'о': 13}, 'у': {'и': 16, 'д': 20, 'з': 10, 'ц': 16, 'У': 37}, 'ш': {'и': 24, 'т': 17, 'м': 13}, 'й': {'и': 32, 'т': 20, ' ': 10, 'я': 18, 'Й': 14}, 'х': {'к': 38, 'ж': 16, ' ': 10, 'я': 18, 'Х': 12}, 'ж': {'н': 18, 'т': 17, 'х': 17, 'Ж': 15}, 'Н': {'К': 15}, 'Л': {'К': 23, 'А': 11, 'П': 10}, 'П': {'К': 20, 'А': 13, 'Т': 58}, '.': {' ': 16}, 'В': {'в': 13}, 'М': {'Ш': 19, 'Т': 10, 'Ж': 18}, 'ц': {'у': 59, 'щ': 16}, 'щ': {'у': 10, 'ц': 14}, 'Д': {'А': 18}, 'Г': {'Т': 30}, '3': {'З': 11}, 'б': {'Б': 24}, ',': {';': 29}}\n"
     ]
    }
   ],
   "source": [
    "stat = evaluator.errors_sym_stat()\n",
    "print(stat[0])"
   ]
  },
  {
   "attachments": {},
   "cell_type": "markdown",
   "metadata": {},
   "source": [
    "ЗДЕСЬ ТЕСТОВАЯ НОВАЯ"
   ]
  },
  {
   "cell_type": "code",
   "execution_count": 33,
   "metadata": {},
   "outputs": [
    {
     "data": {
      "text/plain": [
       "<matplotlib.legend.Legend at 0x212d0ba7c10>"
      ]
     },
     "execution_count": 33,
     "metadata": {},
     "output_type": "execute_result"
    },
    {
     "data": {
      "image/png": "[encoded data removed]",
      "text/plain": [
       "<Figure size 640x480 with 1 Axes>"
      ]
     },
     "metadata": {},
     "output_type": "display_data"
    }
   ],
   "source": [
    "x = list(dict(sorted(stat[1].items())).keys())\n",
    "y = dict(sorted(stat[1].items())).values()\n",
    "\n",
    "plt.ylabel('CER')\n",
    "plt.xlabel('Длина последовательности')\n",
    "plt.xticks(x)\n",
    "plt.scatter(x, y, color = 'red', label = 'CER последовательности')\n",
    "plt.plot(x, [0.262 for i in x], color = 'blue', label = 'CER на всей выборке')\n",
    "plt.legend(loc='best')"
   ]
  },
  {
   "attachments": {},
   "cell_type": "markdown",
   "metadata": {},
   "source": [
    "Видим, что при разных тестовых данных сеть все равно ухудшает качество распознавания на слишком коротких или слишком длинных последовательностях"
   ]
  },
  {
   "cell_type": "code",
   "execution_count": 75,
   "metadata": {},
   "outputs": [],
   "source": [
    "from PIL import ImageTk, ImageDraw\n",
    "from tkinter import *\n",
    "import PIL\n",
    "\n",
    "class Recognizer:\n",
    "    \"\"\"\n",
    "    This class can recognize phrase from painted or given picture\n",
    "    \"\"\"\n",
    "    \n",
    "    def __init__(self,\n",
    "                 model,\n",
    "                 coder,\n",
    "                 transform: Transforms,\n",
    "                 device = 'cuda') -> None:\n",
    "        self.model = model\n",
    "        self.transform = transform\n",
    "        self.device = device\n",
    "        self.coder = coder\n",
    "    \n",
    "    \n",
    "    def forward(self, img, transforms = False) -> list:\n",
    "        \"\"\"\n",
    "        This method implements forward pass of the model\n",
    "\n",
    "        Args:\n",
    "            img (Union[Image, Tensor]): Given image to recognize.\n",
    "            If Image then transforms must be True. Else it's assumed transforms have already been applied\n",
    "            transforms (bool, optional): If false transforms won't be applied. Defaults to False.\n",
    "\n",
    "        Returns:\n",
    "            list: Recognized phrases. If img was Image list will contain 1 element\n",
    "        \"\"\"\n",
    "        if transforms:\n",
    "            img = self.transform(img)\n",
    "\n",
    "        logits = self.model(img.unsqueeze(0).to(self.device))\n",
    "        logits = logits.contiguous().cpu()\n",
    "        T, B, H = logits.size()\n",
    "        pred_sizes = torch.LongTensor([T])\n",
    "        probs, pos = logits.max(2)\n",
    "        pos = pos.transpose(1, 0).contiguous().view(-1)\n",
    "        predictions = self.coder.decode(pos.data, pred_sizes.data)\n",
    "        \n",
    "        return predictions\n",
    "    \n",
    "    \n",
    "    def paint(self) -> None:\n",
    "        \"\"\"\n",
    "        This method creates a window to paint a phrase\n",
    "        \"\"\"\n",
    "        width = 1000  # canvas width\n",
    "        height = 400 # canvas height\n",
    "        center = height//2\n",
    "        white = (255, 255, 255) # canvas back\n",
    "        \n",
    "        self.master = Tk()\n",
    "\n",
    "        # create a tkinter canvas to draw on\n",
    "        self.canvas = Canvas(self.master, width=width, height=height, bg='white')\n",
    "        self.canvas.pack()\n",
    "\n",
    "        # create an empty PIL image and draw object to draw on\n",
    "        self.img = PIL.Image.new(\"RGB\", (width, height), white)\n",
    "        self.draw = ImageDraw.Draw(self.img)\n",
    "        self.canvas.pack(expand=YES, fill=BOTH)\n",
    "        self.canvas.bind(\"<B1-Motion>\", self.draw_img)\n",
    "\n",
    "        # add a button to save the image\n",
    "        button=Button(text=\"Recognize\",command=self.master.destroy)\n",
    "        button.pack()\n",
    "        \n",
    "        self.master.mainloop()\n",
    "    \n",
    "\n",
    "    def draw_img(self, event) -> None:\n",
    "        x1, y1 = (event.x - 1), (event.y - 1)\n",
    "        x2, y2 = (event.x + 1), (event.y + 1)\n",
    "        self.canvas.create_oval(x1, y1, x2, y2, fill=\"black\",width=5)\n",
    "        self.draw.line([x1, y1, x2, y2],fill=\"black\",width=5)\n",
    "\n",
    "\n",
    "    def recognize_from_painted(self) -> str:\n",
    "        \"\"\"\n",
    "        This method allows you to paint phrase to recognize\n",
    "\n",
    "        Returns:\n",
    "            str: Recognized phrase\n",
    "        \"\"\"\n",
    "        self.paint()\n",
    "        prediction = self.forward(self.img, True)\n",
    "        return prediction\n",
    "    \n",
    "    \n",
    "    def recognize_from_imgs(self, imgs, correcting = False) -> list:\n",
    "        \"\"\"\n",
    "        This method recognize pharse from given img\n",
    "\n",
    "        Args:\n",
    "            img (Tensor): Transformed imgs you want to recognize\n",
    "            correcting (bool, optional): If you want to correct predicted word with dictionary. Defaults to False.\n",
    "\n",
    "        Returns:\n",
    "            list: List of recognized phrases\n",
    "        \"\"\"\n",
    "        predictions = self.forward(imgs)\n",
    "        \n",
    "        if correcting: \n",
    "            evaluator = Evaluator(self.model, None, self.coder)\n",
    "            predictions = evaluator.word_correction(predictions)\n",
    "            \n",
    "        return predictions\n",
    "\n",
    "    \n",
    "    def recognize_from_file(self, path, correcting = False) -> str:\n",
    "        \"\"\"\n",
    "        This method loads img from given then recognize it\n",
    "\n",
    "        Args:\n",
    "            path (str): Path to img\n",
    "            correcting (bool, optional): If you want to correct predicted word with dictionary. Defaults to False.\n",
    "\n",
    "        Returns:\n",
    "            str: Recognized phrase\n",
    "        \"\"\"\n",
    "        img = PIL.Image.open(path)\n",
    "        prediction = self.forward(img, True)\n",
    "        \n",
    "        if correcting: \n",
    "            evaluator = Evaluator(self.model, None, self.coder)\n",
    "            prediction = evaluator.word_correction(prediction)\n",
    "            \n",
    "        return prediction"
   ]
  },
  {
   "cell_type": "code",
   "execution_count": 76,
   "metadata": {},
   "outputs": [],
   "source": [
    "rec = Recognizer(model, coder, test_transform_2)"
   ]
  },
  {
   "cell_type": "code",
   "execution_count": 77,
   "metadata": {},
   "outputs": [
    {
     "data": {
      "text/plain": [
       "'модель'"
      ]
     },
     "execution_count": 77,
     "metadata": {},
     "output_type": "execute_result"
    }
   ],
   "source": [
    "rec.recognize_from_file('./Модель.png')"
   ]
  },
  {
   "cell_type": "code",
   "execution_count": 36,
   "metadata": {},
   "outputs": [
    {
     "data": {
      "text/plain": [
       "{'и': {'л': 11, 'е': 16, 'н': 22},\n",
       " 'о': {'е': 12, 'а': 34},\n",
       " 'я': {'е': 11},\n",
       " 'с': {'е': 20},\n",
       " 'н': {'п': 10, 'к': 16, 'м': 18},\n",
       " 'а': {'о': 11},\n",
       " 'е': {'и': 17, 'с': 12, 'я': 10},\n",
       " 'к': {'н': 19, 'х': 11},\n",
       " 'г': {'т': 10},\n",
       " 'л': {'м': 12}}"
      ]
     },
     "execution_count": 36,
     "metadata": {},
     "output_type": "execute_result"
    }
   ],
   "source": [
    "stat[0]"
   ]
  },
  {
   "cell_type": "code",
   "execution_count": 39,
   "metadata": {},
   "outputs": [
    {
     "data": {
      "text/plain": [
       "{'и': {'е': 16, 'н': 22},\n",
       " 'о': {'а': 34},\n",
       " 'с': {'е': 20},\n",
       " 'н': {'к': 16, 'м': 18},\n",
       " 'е': {'и': 17},\n",
       " 'к': {'н': 19}}"
      ]
     },
     "execution_count": 39,
     "metadata": {},
     "output_type": "execute_result"
    }
   ],
   "source": [
    "def __filter_errors(elem):\n",
    "        return elem[1] >= 15\n",
    "    \n",
    "\n",
    "def errors_sym_stat(a, num_matches = 15):\n",
    "    \n",
    "    # Leave only signficant errors\n",
    "    for pred_sym in a.keys():\n",
    "        if isinstance(a[pred_sym], dict):\n",
    "            a[pred_sym] = dict(filter(__filter_errors, a[pred_sym].items()))\n",
    "        \n",
    "    a = dict(filter(lambda x: len(x[1]) > 0, a.items()))\n",
    "    \n",
    "    return a\n",
    "\n",
    "errors_sym_stat(stat[0].copy())"
   ]
  }
 ],
 "metadata": {
  "kernelspec": {
   "display_name": "base",
   "language": "python",
   "name": "python3"
  },
  "language_info": {
   "codemirror_mode": {
    "name": "ipython",
    "version": 3
   },
   "file_extension": ".py",
   "mimetype": "text/x-python",
   "name": "python",
   "nbconvert_exporter": "python",
   "pygments_lexer": "ipython3",
   "version": "3.9.15 | packaged by conda-forge | (main, Nov 22 2022, 08:41:22) [MSC v.1929 64 bit (AMD64)]"
  },
  "orig_nbformat": 4,
  "vscode": {
   "interpreter": {
    "hash": "cffdd22708c8f24895f497a03a7b67c0092c0fcb40692f19cd97059e00134830"
   }
  }
 },
 "nbformat": 4,
 "nbformat_minor": 2
}
