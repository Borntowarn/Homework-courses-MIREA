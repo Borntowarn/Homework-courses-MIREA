{
 "cells": [
  {
   "cell_type": "code",
   "execution_count": 116,
   "metadata": {},
   "outputs": [
    {
     "name": "stderr",
     "output_type": "stream",
     "text": [
      "Global seed set to 0\n"
     ]
    }
   ],
   "source": [
    "import os\n",
    "import PIL\n",
    "import math\n",
    "import wandb\n",
    "import torch\n",
    "import hydra\n",
    "import enchant\n",
    "import numpy as np\n",
    "import pandas as pd\n",
    "import torch.nn as nn\n",
    "import matplotlib.pyplot as plt\n",
    "\n",
    "import straug.blur as blur\n",
    "import straug.warp as warp\n",
    "import straug.noise as noise\n",
    "import straug.camera as camera\n",
    "import straug.process as process\n",
    "import straug.geometry as geometry\n",
    "\n",
    "from tkinter import *\n",
    "from torch import Tensor\n",
    "from tabulate import tabulate\n",
    "from tqdm.notebook import tqdm\n",
    "from typing import Union, Optional\n",
    "from IPython.display import display\n",
    "from hydra import initialize, compose\n",
    "from PIL import Image, ImageTk, ImageDraw\n",
    "from pytorch_lightning import seed_everything\n",
    "from ctc_decoder import best_path, beam_search\n",
    "from torch.utils.data import Dataset, DataLoader\n",
    "from torchvision import datasets, transforms, models\n",
    "from torchmetrics import CharErrorRate, WordErrorRate\n",
    "from omegaconf import OmegaConf, DictConfig, open_dict\n",
    "\n",
    "seed_everything(0, True)\n",
    "DEVICE = 'cuda:0'"
   ]
  },
  {
   "attachments": {},
   "cell_type": "markdown",
   "metadata": {},
   "source": [
    "# Dataset class"
   ]
  },
  {
   "cell_type": "code",
   "execution_count": 117,
   "metadata": {},
   "outputs": [],
   "source": [
    "class HWTDataset(Dataset):\n",
    "    \"\"\"\n",
    "    Class for creating custom image2label dataset from folder\n",
    "\n",
    "    Args:\n",
    "        Dataset (Dataset): Standart torch class for custom datasets\n",
    "    \"\"\"\n",
    "    \n",
    "    \n",
    "    def __init__(\n",
    "        self,\n",
    "        root_dir: str,\n",
    "        label_dir: str,\n",
    "        transforms: transforms.Compose = None) -> None:\n",
    "        \n",
    "        super(HWTDataset, self).__init__()\n",
    "        \n",
    "        # Loading labling file\n",
    "        name_label = pd.read_csv(label_dir, delimiter='\\t', names = ['Image name', 'Label'])\n",
    "        name_label['Image name'] = name_label['Image name'].apply(lambda x: os.path.join(root_dir, x))\n",
    "        self.data = name_label.to_dict('split')['data']\n",
    "        \n",
    "        self.transforms = transforms\n",
    "    \n",
    "    \n",
    "    def __len__(self) -> int:\n",
    "        return len(self.data)\n",
    "    \n",
    "        \n",
    "    def __getitem__(self, index: int) -> tuple[Tensor, str]:\n",
    "        \n",
    "        path, label = self.data[index]\n",
    "        img = Image.open(path).convert('RGB')\n",
    "        \n",
    "        if self.transforms is not None:\n",
    "            img = self.transforms(img)\n",
    "        \n",
    "        return img, label"
   ]
  },
  {
   "attachments": {},
   "cell_type": "markdown",
   "metadata": {},
   "source": [
    "# Decoder class"
   ]
  },
  {
   "cell_type": "code",
   "execution_count": 118,
   "metadata": {},
   "outputs": [],
   "source": [
    "class SymbolCoder:\n",
    "    \"\"\"\n",
    "    Class needs to encode initial phrases to Tensor\n",
    "    and decode predicted labels to phrases\n",
    "    \"\"\"\n",
    "    \n",
    "    def __init__(self, alphabet) -> None:\n",
    "        \n",
    "        self.alphabet = ''.join(sorted(alphabet))\n",
    "        self.sym2class, self.class2sym = {'' : 0}, {0 : ''}\n",
    "        \n",
    "        for num, alpha in enumerate(self.alphabet):\n",
    "            self.sym2class[alpha] = num + 1\n",
    "            self.class2sym[num + 1] = alpha\n",
    "    \n",
    "    \n",
    "    def encode(self, text) -> tuple[Tensor, Tensor]:\n",
    "        \"\"\"\n",
    "        This method encode initial phrases to Tensor\n",
    "\n",
    "        Args:\n",
    "            text (list): Initial phrases for encode\n",
    "\n",
    "        Returns:\n",
    "            tuple: First value is a tensor of phrases labels, second is lengths of phrases\n",
    "        \"\"\"\n",
    "        \n",
    "        length = []\n",
    "        result = []\n",
    "        \n",
    "        for word in text:\n",
    "            length.append(len(word))\n",
    "            for alpha in word:\n",
    "                if alpha in self.alphabet: \n",
    "                    result.append(self.sym2class[alpha])\n",
    "                else: result.append(0)\n",
    "        \n",
    "        return (torch.tensor(result, dtype=torch.int64), torch.tensor(length, dtype=torch.int64))\n",
    "    \n",
    "    \n",
    "    def decode(self, text, length) -> Union[str, list]:\n",
    "        \"\"\"\n",
    "        This method used for decoding prediction labels to text\n",
    "\n",
    "        Args:\n",
    "            text (Tensor): predicted labels of symbols\n",
    "            length (Tensor): lengths of prediction phrases\n",
    "\n",
    "        Returns:\n",
    "            Union[str, list]: list type returns when use for batch, for single word returns str\n",
    "        \"\"\"\n",
    "        \n",
    "        #For single word\n",
    "        if length.numel() == 1:\n",
    "            length = length[0]\n",
    "            word = ''\n",
    "            \n",
    "            for i in range(length):\n",
    "                if text[i] != 0 and not (i > 0 and text[i - 1] == text[i]):\n",
    "                    word  += self.class2sym[text[i].item()]\n",
    "            return word\n",
    "        \n",
    "        #For batch\n",
    "        else:\n",
    "            words = []\n",
    "            index = 0\n",
    "            \n",
    "            for i in range(length.numel()):\n",
    "                l = length[i]\n",
    "                words.append(self.decode(text[index:index + l], torch.IntTensor([l])))\n",
    "                index += l\n",
    "            return words\n",
    "    \n",
    "    \n",
    "    def beam_decode(self, logits, batch_num, beam_width = 5) -> list[str]:\n",
    "        predictions = []\n",
    "        for i in range(batch_num):\n",
    "            word = torch.nn.functional.softmax(logits[:, i, :], dim = 1)\n",
    "            word = torch.hstack((word, word[:, 0].unsqueeze(1)))[:, 1:].cpu().numpy()\n",
    "            res = beam_search(word, self.alphabet, beam_width) # Over 10 is too slow\n",
    "            predictions.append(res)\n",
    "        return predictions\n",
    "    \n",
    "    \n",
    "    def __len__(self):\n",
    "        return len(self.class2sym)"
   ]
  },
  {
   "attachments": {},
   "cell_type": "markdown",
   "metadata": {},
   "source": [
    "# Augmentations"
   ]
  },
  {
   "cell_type": "code",
   "execution_count": 119,
   "metadata": {},
   "outputs": [],
   "source": [
    "class Transforms(transforms.Compose):\n",
    "    \n",
    "    def __init__(self, args) -> None:\n",
    "        \n",
    "        self.transforms = []\n",
    "        \n",
    "        for key, value in args.items():\n",
    "            value = OmegaConf.to_object(value)\n",
    "            self.transforms.append(\n",
    "                transforms.RandomApply([\n",
    "                    getattr(transforms, key)(**value['params'])], # Transform\n",
    "                    value['prob']) # Probability of apply\n",
    "                )\n",
    "        self.transforms.append(transforms.ToTensor())"
   ]
  },
  {
   "attachments": {},
   "cell_type": "markdown",
   "metadata": {},
   "source": [
    "# Model classes"
   ]
  },
  {
   "cell_type": "code",
   "execution_count": 120,
   "metadata": {},
   "outputs": [],
   "source": [
    "class RNN(nn.Module):\n",
    "    \"\"\"\n",
    "    This class use for seq 2 seq prediction\n",
    "    \"\"\"\n",
    "    \n",
    "    def __init__(self,\n",
    "                 in_len,\n",
    "                 out_len,\n",
    "                 n_classes : int = None,\n",
    "                 rnn_type : str = 'RNN',\n",
    "                 bidirectional : bool = True,\n",
    "                 batch_first : bool = True) -> None:\n",
    "        \n",
    "        super(RNN, self).__init__()\n",
    "        self.n_classes = n_classes\n",
    "        self.linear = None\n",
    "        \n",
    "        self.rnn = getattr(nn, rnn_type)(in_len, out_len, \n",
    "                          bidirectional = bidirectional, \n",
    "                          batch_first = batch_first)\n",
    "        \n",
    "        if self.n_classes:\n",
    "            self.linear = nn.Linear(out_len * [1, 2][bidirectional], n_classes)\n",
    "\n",
    "    \n",
    "    def forward(self, data) -> torch.Tensor:\n",
    "        \n",
    "        \"\"\"\n",
    "        N = batch size\n",
    "        L = sequence length\n",
    "        D = 2 if bidirectional=True otherwise 1\n",
    "        H_in = input_size\n",
    "        H_out = hidden_size\n",
    "        \"\"\"\n",
    "        \n",
    "        N, L, H_in = data.shape\n",
    "        \n",
    "        data, _ = self.rnn(data) # [N, L, D * n_hidden]\n",
    "        if self.linear:\n",
    "            data = data.reshape(N * L, -1)\n",
    "            data = self.linear(data)\n",
    "            data = data.reshape(N, L, -1)\n",
    "        \n",
    "        return data"
   ]
  },
  {
   "cell_type": "code",
   "execution_count": 121,
   "metadata": {},
   "outputs": [],
   "source": [
    "class Model(nn.Module):\n",
    "    \"\"\"\n",
    "    This class use for slicing initial image\n",
    "    \"\"\"\n",
    "    \n",
    "    def __init__(self,\n",
    "                 in_channels : int,\n",
    "                 img_shape : tuple,\n",
    "                 len_alphabet : int,\n",
    "                 num_layers : int = 5,\n",
    "                 increase_channels_layers : list = [1, 2, 4],\n",
    "                 modules_seq : str = 'CAMB',\n",
    "                 modules_freq : list = [1, 1, 1, 1],\n",
    "                 conv_kernel_size : Union[int, tuple] = 3,\n",
    "                 conv_stride : Union[int, tuple] = 1,\n",
    "                 conv_padding : Union[int, tuple] = 1,\n",
    "                 pool_kernel_size : Union[int, tuple] = 2,\n",
    "                 pool_stride : Union[int, tuple] = 2,\n",
    "                 pool_padding : Union[int, tuple] = 0,\n",
    "                 activation : str = 'ReLU',\n",
    "                 rnn_type : str = 'RNN'\n",
    "                 ) -> None:\n",
    "        super(Model, self).__init__()\n",
    "        self.layers = nn.ModuleList()\n",
    "        out_channels = 64\n",
    "        \n",
    "        # Frequence of append every module. For example:\n",
    "        # if freq for MaxPool is 2 then MaxPool will be appended every 2 layer\n",
    "        frequency = dict(zip(modules_seq, modules_freq)) \n",
    "        \n",
    "        # For every layer create sequence of modules\n",
    "        for layer in range(1, num_layers + 1):\n",
    "            for module in modules_seq:\n",
    "                if layer % frequency[module]: # Check freq of module\n",
    "                    continue\n",
    "                if module == 'C':\n",
    "                    self.layers.append(nn.Conv2d(in_channels, out_channels, conv_kernel_size,\n",
    "                                                conv_stride, conv_padding))\n",
    "                    in_channels = out_channels\n",
    "                    img_shape = self.conv_output_shape(img_shape, conv_kernel_size, conv_stride, conv_padding)\n",
    "                elif module == 'A':\n",
    "                    self.layers.append(getattr(nn, activation)())\n",
    "                elif module == 'M':\n",
    "                    self.layers.append(nn.MaxPool2d(pool_kernel_size, pool_stride, pool_padding))\n",
    "                    img_shape = self.conv_output_shape(img_shape, pool_kernel_size, pool_stride, pool_padding)\n",
    "                elif module == 'B':\n",
    "                    self.layers.append(nn.BatchNorm2d(out_channels))\n",
    "            \n",
    "            if layer in increase_channels_layers:\n",
    "                out_channels *= 2\n",
    "        \n",
    "        self.rnn_layers = nn.Sequential(\n",
    "            RNN(img_shape[0]*512, 512, rnn_type=rnn_type, bidirectional=True, batch_first=True),\n",
    "            RNN(1024, 128, len_alphabet + 1, rnn_type=rnn_type, bidirectional=True, batch_first=True)\n",
    "        )\n",
    "        \n",
    "        print(f'Shape after convs layers: {img_shape}')\n",
    "    \n",
    "    \n",
    "    def conv_output_shape(self,\n",
    "                          h_w : tuple,\n",
    "                          kernel_size : Union[int, tuple] = 1,\n",
    "                          stride : Union[int, tuple] = 1,\n",
    "                          pad : Union[int, tuple] = 0,\n",
    "                          dilation : Union[int, tuple] = 1\n",
    "                          ) -> tuple:\n",
    "        \"\"\"\n",
    "        This method calculate out height and width of img\n",
    "\n",
    "        Args:\n",
    "            h_w (tuple): Input shape.\n",
    "            kernel_size (Union[int, tuple], optional): Defaults to 1.\n",
    "            stride (Union[int, tuple], optional): Defaults to 1.\n",
    "            pad (Union[int, tuple], optional): Defaults to 0.\n",
    "            dilation (Union[int, tuple], optional): _description_. Defaults to 1.\n",
    "\n",
    "        Returns:\n",
    "            tuple: Output shape\n",
    "        \"\"\"\n",
    "        from math import floor\n",
    "        \n",
    "        if isinstance(kernel_size, int):\n",
    "            kernel_size = (kernel_size, kernel_size)\n",
    "        if isinstance(stride, int):\n",
    "            stride = (stride, stride)\n",
    "        if isinstance(pad, int):\n",
    "            pad = (pad, pad)\n",
    "            \n",
    "        h = floor(((h_w[0] + (2 * pad[0]) - (dilation * (kernel_size[0] - 1)) - 1) / stride[0]) + 1)\n",
    "        w = floor(((h_w[1] + (2 * pad[0]) - (dilation * (kernel_size[1] - 1)) - 1) / stride[1]) + 1)\n",
    "        return (h, w)\n",
    "    \n",
    "    \n",
    "    def forward(self, data):\n",
    "        \n",
    "        for module in self.layers:\n",
    "            data = module(data)\n",
    "        \n",
    "        bs, c, h, w = data.shape\n",
    "        \n",
    "        data = data.permute(0, 3, 1, 2).reshape(bs, w, c * h) # Out - bs, w, h * c (N, L, H)\n",
    "        data = self.rnn_layers(data) # Out - N, L, len_alphabet\n",
    "        data = data.permute(1, 0, 2) # Out - L, N, len_alphabet\n",
    "        \n",
    "        prob = torch.nn.functional.log_softmax(data, 2)\n",
    "        \n",
    "        return prob"
   ]
  },
  {
   "attachments": {},
   "cell_type": "markdown",
   "metadata": {},
   "source": [
    "# Train class"
   ]
  },
  {
   "cell_type": "code",
   "execution_count": 122,
   "metadata": {},
   "outputs": [],
   "source": [
    "class Trainer:\n",
    "    \n",
    "    def __init__(self,\n",
    "                 model,\n",
    "                 optimizer,\n",
    "                 dataloader,\n",
    "                 lossfunc,\n",
    "                 coder,\n",
    "                 epochs,\n",
    "                 model_name,\n",
    "                 train_alphabet,\n",
    "                 scheduler = None,\n",
    "                 logging : bool = False,\n",
    "                 device : str = 'cuda'\n",
    "                 ) -> None:\n",
    "        self.model = model\n",
    "        self.optimizer = optimizer\n",
    "        self.scheduler = scheduler\n",
    "        self.dataloader = dataloader\n",
    "        self.lossfunc = lossfunc\n",
    "        self.coder = coder\n",
    "        self.epochs = epochs\n",
    "        self.model_name = model_name\n",
    "        self.LOGGING = logging\n",
    "        self.DEVICE = device\n",
    "        self.train_alphabet = train_alphabet\n",
    "\n",
    "\n",
    "    def print_epoch_data(self,\n",
    "                         epoch: int,\n",
    "                         mean_loss: float,\n",
    "                         char_error: float,\n",
    "                         word_error: float,\n",
    "                         zero_out_losses: float\n",
    "                         ) -> None:\n",
    "        \"\"\"\n",
    "        This method printing epoch statistics\n",
    "        \"\"\"\n",
    "        \n",
    "        print(tabulate(\n",
    "            [['epoch', 'mean loss', 'mean cer', 'mean wer', 'zero loss warnings'],\n",
    "             [epoch, round(mean_loss, 4), round(char_error, 4),\n",
    "              round(word_error, 4), zero_out_losses]],\n",
    "            headers='firstrow',\n",
    "            tablefmt='fancy_grid'))\n",
    "\n",
    "\n",
    "    def save_model(self, mean_loss: float, char_error: float) -> None:\n",
    "        torch.save(self.model.state_dict(),\n",
    "                    f'./{self.model_name} \\\n",
    "                    _L-{round(mean_loss, 4)} \\\n",
    "                    _CER-{round(char_error, 4)}.pth')\n",
    "\n",
    "\n",
    "    def log(self, mean_loss: float, char_error: float, word_error: float) -> None:\n",
    "        wandb.log({'loss': mean_loss,\n",
    "                    'CER': char_error,\n",
    "                    'WER': word_error,\n",
    "                    'Learn Rate': \n",
    "                        self.scheduler.get_last_lr()[-1] \n",
    "                        if self.scheduler \n",
    "                        else self.optimizer.param_groups[0]['lr']})\n",
    "    \n",
    "    \n",
    "    def print_save_stat(self, outputs: list, epoch: int, zero_out: int) -> None:\n",
    "        \n",
    "        assert len(outputs) != 0, 'Error: bad loss'\n",
    "            \n",
    "        output = torch.Tensor(outputs)\n",
    "        mean_loss = output[:, 0].mean().item()\n",
    "        char_error = output[:, 1].mean().item()\n",
    "        word_error = output[:, 2].mean().item()\n",
    "        \n",
    "        self.print_epoch_data(epoch, mean_loss, char_error, word_error, zero_out)\n",
    "        \n",
    "        if self.LOGGING:\n",
    "            self.log(mean_loss, char_error, word_error)\n",
    "        \n",
    "        if mean_loss < 0.1 or not (epoch + 1) % 5:\n",
    "            self.save_model(mean_loss, char_error)\n",
    "    \n",
    "    def forward(self, data: Tensor, targets: Tensor) -> None:\n",
    "        self.optimizer.zero_grad()\n",
    "        classes, lengths = self.coder.encode(targets)\n",
    "        data = data.to(self.DEVICE)\n",
    "        classes = classes.to(self.DEVICE)\n",
    "        \n",
    "        logits = self.model(data)\n",
    "        logits = logits.contiguous().cpu()\n",
    "        T, N, C = logits.size()\n",
    "        pred_sizes = torch.LongTensor([T for i in range(N)]).to(self.DEVICE)\n",
    "        classes = classes.view(-1).contiguous()\n",
    "        loss = self.lossfunc(logits, classes, pred_sizes, lengths)\n",
    "    \n",
    "    \n",
    "    def prediction(self, logits: Tensor, pred_sizes: Tensor) -> list[str]:\n",
    "        probs, preds = logits.max(2)\n",
    "        preds = preds.transpose(1, 0).contiguous().view(-1)\n",
    "        sim_preds = self.coder.decode(preds.data, pred_sizes.data)\n",
    "        return sim_preds\n",
    "\n",
    "\n",
    "    def backward(self, loss: Tensor, sim_preds: list, targets: list) -> tuple[float, float]:\n",
    "        CER = CharErrorRate()\n",
    "        WER = WordErrorRate()\n",
    "        cer = CER(sim_preds, targets)\n",
    "        wer = WER(sim_preds, targets)\n",
    "        \n",
    "        loss.backward()\n",
    "        self.optimizer.step()\n",
    "        if self.scheduler:\n",
    "            self.scheduler.step()\n",
    "        \n",
    "        return cer, wer\n",
    "    \n",
    "    \n",
    "    def statistics(self, loss: Tensor, cer: float, wer: float) -> list[float, float, float]:\n",
    "        return [abs(loss.item()), cer, wer]\n",
    "    \n",
    "    \n",
    "    def train(self) -> Model:\n",
    "        self.model.train()\n",
    "        \n",
    "        if self.LOGGING:\n",
    "            wandb.watch(self.model, self.lossfunc, log='all', log_freq=100)\n",
    "        \n",
    "        for epoch in tqdm(range(self.epochs), total=self.epochs):\n",
    "            zero_out_losses = 0\n",
    "            outputs = []\n",
    "            for (data, targets) in tqdm(self.dataloader, total=len(self.dataloader)):\n",
    "                \n",
    "                loss, logits, pred_sizes = self.forward(data, targets)\n",
    "                sim_preds = self.prediction(logits, pred_sizes)\n",
    "                cer, wer = self.backward(loss, sim_preds, targets)\n",
    "                outputs.append(self.statistics(loss, cer, wer))\n",
    "            \n",
    "            self.print_save_stat(outputs, epoch, zero_out_losses)\n",
    "        \n",
    "        return self.model"
   ]
  },
  {
   "attachments": {},
   "cell_type": "markdown",
   "metadata": {},
   "source": [
    "# Evaluator class"
   ]
  },
  {
   "cell_type": "code",
   "execution_count": 123,
   "metadata": {},
   "outputs": [],
   "source": [
    "class Evaluator:\n",
    "    \"\"\"\n",
    "    Class for evaluate CER, WER of model and\n",
    "    count stat about symbols errors.\n",
    "    \"\"\"\n",
    "    \n",
    "    def __init__(self,\n",
    "                 model,\n",
    "                 loader,\n",
    "                 coder,\n",
    "                 device : str = 'cuda'\n",
    "                 ) -> None:\n",
    "        self.model = model.eval()\n",
    "        self.CER = CharErrorRate()\n",
    "        self.WER = WordErrorRate()\n",
    "        self.coder = coder\n",
    "        self.loader = loader\n",
    "        self.device = device\n",
    "        self.avg_matches = 0\n",
    "        \n",
    "        self.original_pred = []\n",
    "        self.original_labels = []\n",
    "        \n",
    "        self.symbol_err = {}\n",
    "        self.length_word_CER = {}\n",
    "        \n",
    "    \n",
    "    def suggest(self, words: list, dictionary: enchant.Dict) -> str:\n",
    "        result = ''\n",
    "        \n",
    "        for word in words:\n",
    "            if word.isalpha():\n",
    "                \n",
    "                # If word is in dict probably it's without errors\n",
    "                cer_suggest = dict()\n",
    "                if dictionary.check(word):\n",
    "                    result += word + ' '\n",
    "                    continue\n",
    "                \n",
    "                # Else dict can suggest what word we need\n",
    "                suggestions = set(dictionary.suggest(word))\n",
    "\n",
    "                # For every suggestion finding CER\n",
    "                for suggest in suggestions:\n",
    "                    if ' ' not in suggest:\n",
    "                        cer = self.CER(suggest, word)\n",
    "                        if cer.item() / len(word) < 0.05:\n",
    "                            cer_suggest[cer] = suggest\n",
    "                \n",
    "                # Get the nearest word\n",
    "                if len(cer_suggest.keys()) > 0: \n",
    "                    result += cer_suggest[min(cer_suggest.keys())] + ' '\n",
    "                # Or take original word if there's no suggestions\n",
    "                else:\n",
    "                    result += word + ' '\n",
    "                    \n",
    "        return result[:-1]\n",
    "\n",
    "    \n",
    "    def word_correction(self, predictions: list[str]) -> list:\n",
    "        correct_predictions = []\n",
    "        dictionary = enchant.Dict(\"ru_RU\")\n",
    "        \n",
    "        # Every pred phrase is splitted by words\n",
    "        # then every word is checked with external dict\n",
    "        for phrase in tqdm(predictions, total=len(predictions)):\n",
    "            words = phrase.split()\n",
    "            result = self.suggest(words, dictionary)\n",
    "            correct_predictions.append(result)\n",
    "            \n",
    "        return correct_predictions\n",
    "    \n",
    "    \n",
    "    def count_errors(self) -> None:\n",
    "        \n",
    "        if not len(self.original_pred):\n",
    "            self.evaluate()\n",
    "        \n",
    "        for pred, true in zip(self.original_pred, self.original_labels):\n",
    "            \n",
    "            # Add CERs for all pairs (pred, true) to collect\n",
    "            # the errors dependence on the length\n",
    "            if len(true) in self.length_word_CER.keys():\n",
    "                self.length_word_CER[len(true)].append(self.CER(pred, true))\n",
    "            else: \n",
    "                self.length_word_CER[len(true)] = [self.CER(pred, true)]\n",
    "            \n",
    "            # Collect pairs of mismatched symbols\n",
    "            if len(true) == len(pred) and true != pred:\n",
    "                for i, j in zip(pred, true):\n",
    "                    if i != j: \n",
    "                        if i in self.symbol_err.keys(): \n",
    "                            if j in self.symbol_err[i].keys():\n",
    "                                self.symbol_err[i][j] += 1\n",
    "                                self.avg_matches += 1\n",
    "                            else: self.symbol_err[i][j] = 1\n",
    "                        else: self.symbol_err[i] = {j : 1}\n",
    "    \n",
    "    \n",
    "    def errors_sym_stat(self) -> tuple[dict[str, dict], dict[str, float]]:\n",
    "    \n",
    "        if not len(self.length_word_CER):\n",
    "            self.count_errors()\n",
    "            self.avg_matches /= len(self.symbol_err.keys())\n",
    "        \n",
    "            # For every error symbol leavy only with number of errors >= self.avg_matches\n",
    "            for pred_sym in self.symbol_err.keys():\n",
    "                self.symbol_err[pred_sym] = dict(filter(\n",
    "                    lambda elem: elem[1] >= self.avg_matches, \n",
    "                    self.symbol_err[pred_sym].items()))\n",
    "                \n",
    "            # Delete empty dictionaries in final stat\n",
    "            self.symbol_err = dict(filter(\n",
    "                lambda elem: len(elem[1]) > 0,\n",
    "                self.symbol_err.items()))\n",
    "\n",
    "            # Count mean value for CER based on length\n",
    "            self.length_word_CER = {\n",
    "                key : torch.Tensor(self.length_word_CER[key]).mean().item()\n",
    "                for key in self.length_word_CER.keys()\n",
    "                }\n",
    "        \n",
    "        return self.symbol_err.copy(), self.length_word_CER.copy()\n",
    "    \n",
    "    \n",
    "    def forward(self, beam_width: int) -> tuple[list[str], list[str]]:\n",
    "        \n",
    "        predictions = []\n",
    "        labels = []\n",
    "        \n",
    "        for iteration, batch in enumerate(tqdm(self.loader)):\n",
    "            data, targets = batch[0].to(self.device), batch[1]\n",
    "            labels.extend(targets)\n",
    "            \n",
    "            logits = self.model(data).contiguous().detach()\n",
    "            T, B, H = logits.size()\n",
    "            pred_sizes = torch.LongTensor([T for i in range(B)])\n",
    "            probs, pos = logits.max(2)\n",
    "            pos = pos.transpose(1, 0).contiguous().view(-1)\n",
    "            \n",
    "            if beam_width:\n",
    "                sim_preds = self.coder.beam_decode(logits, B, beam_width)\n",
    "            else:\n",
    "                sim_preds = self.coder.decode(pos.data, pred_sizes.data)\n",
    "                \n",
    "            predictions.extend(sim_preds)\n",
    "        \n",
    "        if not len(self.original_labels):\n",
    "            self.original_pred = predictions\n",
    "            self.original_labels = labels\n",
    "            \n",
    "        return predictions, labels\n",
    "\n",
    "    def evaluate(self, beam_width: int = 0, correcting: bool = False) -> tuple:\n",
    "        \n",
    "        predictions, labels = self.forward(beam_width)\n",
    "        \n",
    "        # Correct predictions if wants\n",
    "        if correcting: \n",
    "            predictions = self.word_correction(predictions)\n",
    "        \n",
    "        # Count CER, WER\n",
    "        char_error = self.CER(predictions, labels)\n",
    "        word_error = self.WER(predictions, labels)\n",
    "        \n",
    "        return char_error, word_error"
   ]
  },
  {
   "attachments": {},
   "cell_type": "markdown",
   "metadata": {},
   "source": [
    "# Recognizer class"
   ]
  },
  {
   "cell_type": "code",
   "execution_count": 153,
   "metadata": {},
   "outputs": [],
   "source": [
    "class Recognizer:\n",
    "    \"\"\"\n",
    "    This class can recognize phrase from painted or given picture\n",
    "    \"\"\"\n",
    "    \n",
    "    def __init__(self,\n",
    "                 model,\n",
    "                 coder,\n",
    "                 transform: Transforms,\n",
    "                 device = 'cuda') -> None:\n",
    "        self.model = model.eval()\n",
    "        self.transform = transform\n",
    "        self.device = device\n",
    "        self.coder = coder\n",
    "    \n",
    "    \n",
    "    def forward(self, img: Image, beam_width: int) -> str:\n",
    "        \"\"\"\n",
    "        This method implements forward pass of the model\n",
    "\n",
    "        Args:\n",
    "            img (Image): Given image to recognize.\n",
    "            If Image then transforms must be True. Else it's assumed transforms have already been applied\n",
    "\n",
    "        Returns:\n",
    "            str: Recognized phrase\n",
    "        \"\"\"\n",
    "        img = self.transform(img).unsqueeze(0)\n",
    "\n",
    "        logits = self.model(img.to(self.device))\n",
    "        logits = logits.contiguous().cpu()\n",
    "        T, B, H = logits.size()\n",
    "        pred_sizes = torch.LongTensor([T])\n",
    "        probs, pos = logits.max(2)\n",
    "        pos = pos.transpose(1, 0).contiguous().view(-1)\n",
    "        if beam_width:\n",
    "            prediction = self.coder.beam_decode(logits, B, beam_width)\n",
    "        else:\n",
    "            prediction = self.coder.decode(pos.data, pred_sizes.data)\n",
    "        \n",
    "        return prediction\n",
    "    \n",
    "    \n",
    "    def paint(self) -> None:\n",
    "        \"\"\"\n",
    "        This method creates a window to paint a phrase\n",
    "        \"\"\"\n",
    "        width = 1000  # canvas width\n",
    "        height = 400 # canvas height\n",
    "        center = height//2\n",
    "        white = (255, 255, 255) # canvas back\n",
    "        \n",
    "        self.master = Tk()\n",
    "\n",
    "        # Create a tkinter canvas to draw on\n",
    "        self.canvas = Canvas(self.master, width=width, height=height, bg='white')\n",
    "        self.canvas.pack()\n",
    "\n",
    "        # Create an empty PIL image and draw object to draw on\n",
    "        self.img = PIL.Image.new(\"RGB\", (width, height), white)\n",
    "        self.draw = ImageDraw.Draw(self.img)\n",
    "        self.canvas.pack(expand=YES, fill=BOTH)\n",
    "        self.canvas.bind(\"<B1-Motion>\", self.draw_img)\n",
    "\n",
    "        # Button to recognize img and close pint window\n",
    "        button=Button(text=\"Recognize\",command=self.master.destroy)\n",
    "        button.pack()\n",
    "        \n",
    "        self.master.mainloop()\n",
    "    \n",
    "\n",
    "    def draw_img(self, event) -> None:\n",
    "        x1, y1 = (event.x - 1), (event.y - 1)\n",
    "        x2, y2 = (event.x + 1), (event.y + 1)\n",
    "        self.canvas.create_oval(x1, y1, x2, y2, fill=\"black\",width=5)\n",
    "        self.draw.line([x1, y1, x2, y2],fill=\"black\",width=5)\n",
    "\n",
    "\n",
    "    def recognize_from_painted(self, beam_width: int = 0) -> str:\n",
    "        \"\"\"\n",
    "        This method allows you to paint phrase to recognize\n",
    "\n",
    "        Returns:\n",
    "            str: Recognized phrase\n",
    "        \"\"\"\n",
    "        self.paint()\n",
    "        prediction = self.forward(self.img, beam_width)\n",
    "        return prediction\n",
    "\n",
    "    \n",
    "    def recognize_from_file(self, path, beam_width: int = 0, correcting = False) -> str:\n",
    "        \"\"\"\n",
    "        This method loads img from given then recognize it\n",
    "\n",
    "        Args:\n",
    "            path (str): Path to img\n",
    "            correcting (bool, optional): If you want to correct predicted word with dictionary. Defaults to False.\n",
    "\n",
    "        Returns:\n",
    "            str: Recognized phrase\n",
    "        \"\"\"\n",
    "        img = PIL.Image.open(path)\n",
    "        prediction = self.forward(img, beam_width)\n",
    "        \n",
    "        if correcting: \n",
    "            evaluator = Evaluator(self.model, None, self.coder)\n",
    "            prediction = evaluator.word_correction([prediction])[0]\n",
    "            \n",
    "        return prediction"
   ]
  },
  {
   "attachments": {},
   "cell_type": "markdown",
   "metadata": {},
   "source": [
    "# Config"
   ]
  },
  {
   "cell_type": "code",
   "execution_count": 139,
   "metadata": {},
   "outputs": [],
   "source": [
    "CONFIG_PATH = './HWTRecognition/config'\n",
    "CONFIG_NAME = 'config'\n",
    "\n",
    "with initialize(version_base=None, config_path=CONFIG_PATH):\n",
    "    cfg = compose(CONFIG_NAME)\n",
    "    cfg = compose(CONFIG_NAME, [f'+transforms={cfg.transforms}',\n",
    "                                f'+model={cfg.model}',\n",
    "                                f'+scheduler={cfg.scheduler}',\n",
    "                                f'+optim={cfg.optim}'])\n",
    "    if cfg.transforms.params.Grayscale.prob > 0:\n",
    "        in_channels = cfg.transforms.params.Grayscale.params.num_output_channels\n",
    "    else:\n",
    "        in_channels = 3\n",
    "    img_shape = cfg.transforms.params.Resize.params.size\n",
    "    with open_dict(cfg):\n",
    "        cfg.model.params.in_channels = in_channels\n",
    "        cfg.model.params.img_shape = img_shape"
   ]
  },
  {
   "attachments": {},
   "cell_type": "markdown",
   "metadata": {},
   "source": [
    "### Wandb init"
   ]
  },
  {
   "cell_type": "code",
   "execution_count": 126,
   "metadata": {},
   "outputs": [],
   "source": [
    "if cfg.id_resume and cfg.logging:\n",
    "    wandb.init(\n",
    "        id=cfg.id_resume,\n",
    "        project=\"Handwritten text recognition\",\n",
    "        resume='must'\n",
    "    )\n",
    "elif cfg.logging:\n",
    "    wandb.init(\n",
    "        project=\"Handwritten text recognition\",\n",
    "        name = f\"{cfg.model.name}_{cfg.transforms.name}_{cfg.optim.name}_{cfg.scheduler.name}\",\n",
    "        config={\n",
    "            'Model': cfg.model.name,\n",
    "            'Transform': cfg.transforms.name,\n",
    "            'Optimizer': cfg.optim.name,\n",
    "            'Scheduler': cfg.scheduler.name if cfg.scheduler else 'None',\n",
    "            'architecture': 'RCNN',\n",
    "            'dataset': 'Handwritten Cyrillic dataset' if cfg.dataset == 'old_' else 'Custom dataset',\n",
    "            'epochs': cfg.epochs,\n",
    "        }\n",
    "    )"
   ]
  },
  {
   "attachments": {},
   "cell_type": "markdown",
   "metadata": {},
   "source": [
    "### Data loading"
   ]
  },
  {
   "cell_type": "code",
   "execution_count": 140,
   "metadata": {},
   "outputs": [],
   "source": [
    "transform = Transforms(cfg.transforms.params)\n",
    "\n",
    "train_data = HWTDataset(cfg.train.dir,\n",
    "                        cfg.train.labels,\n",
    "                        transform)\n",
    "test_data = HWTDataset(cfg.test.dir,\n",
    "                       cfg.test.labels,\n",
    "                       transform)\n",
    "\n",
    "train_df = pd.read_csv(cfg.train.labels, delimiter='\\t', names = ['Image name', 'Label'])\n",
    "train_alphabet = set(train_df['Label'].to_string()) - set('\\n')"
   ]
  },
  {
   "attachments": {},
   "cell_type": "markdown",
   "metadata": {},
   "source": [
    "### Model"
   ]
  },
  {
   "cell_type": "code",
   "execution_count": 141,
   "metadata": {},
   "outputs": [
    {
     "name": "stdout",
     "output_type": "stream",
     "text": [
      "Shape after convs layers: (8, 28)\n"
     ]
    }
   ],
   "source": [
    "model = Model(**cfg.model.params)\n",
    "model = model.to(cfg.device)\n",
    "\n",
    "coder = SymbolCoder(train_alphabet)\n",
    "\n",
    "train_dataloader = DataLoader(train_data, cfg.train_batch, True)\n",
    "test_dataloader = DataLoader(test_data, cfg.test_batch, True)\n",
    "\n",
    "ctc_loss = torch.nn.CTCLoss(reduction='mean', zero_infinity=True)\n",
    "optimizer = getattr(torch.optim, cfg.optim.optim)(model.parameters(), **cfg.optim.params)\n",
    "\n",
    "if cfg.scheduler:\n",
    "    if cfg.scheduler.scheduler == 'OneCycleLR':\n",
    "        cfg.scheduler.params.total_steps *= len(train_dataloader)\n",
    "    if cfg.scheduler.scheduler == 'StepLR':\n",
    "        cfg.scheduler.params.step_size *= len(train_dataloader)\n",
    "    scheduler = getattr(torch.optim.lr_scheduler,\n",
    "                        cfg.scheduler.scheduler)(optimizer,\n",
    "                                                    **cfg.scheduler.params)\n",
    "else: scheduler = None\n",
    "\n",
    "trainer = Trainer(model, optimizer, scheduler, train_dataloader, ctc_loss, coder,\n",
    "                  cfg.epochs, f'{cfg.model.name}_{cfg.transforms.name}_{cfg.optim.name}_{cfg.scheduler.name}',\n",
    "                  train_alphabet, cfg.logging, cfg.device)"
   ]
  },
  {
   "attachments": {},
   "cell_type": "markdown",
   "metadata": {},
   "source": [
    "# Training stage"
   ]
  },
  {
   "cell_type": "code",
   "execution_count": 129,
   "metadata": {},
   "outputs": [],
   "source": [
    "#model = trainer.train()"
   ]
  },
  {
   "cell_type": "code",
   "execution_count": 147,
   "metadata": {},
   "outputs": [
    {
     "data": {
      "text/plain": [
       "Model(\n",
       "  (layers): ModuleList(\n",
       "    (0): Conv2d(1, 64, kernel_size=(3, 3), stride=(1, 1), padding=(1, 1))\n",
       "    (1): BatchNorm2d(64, eps=1e-05, momentum=0.1, affine=True, track_running_stats=True)\n",
       "    (2): LeakyReLU(negative_slope=0.01)\n",
       "    (3): Conv2d(64, 128, kernel_size=(3, 3), stride=(1, 1), padding=(1, 1))\n",
       "    (4): BatchNorm2d(128, eps=1e-05, momentum=0.1, affine=True, track_running_stats=True)\n",
       "    (5): LeakyReLU(negative_slope=0.01)\n",
       "    (6): MaxPool2d(kernel_size=2, stride=2, padding=0, dilation=1, ceil_mode=False)\n",
       "    (7): Conv2d(128, 256, kernel_size=(3, 3), stride=(1, 1), padding=(1, 1))\n",
       "    (8): BatchNorm2d(256, eps=1e-05, momentum=0.1, affine=True, track_running_stats=True)\n",
       "    (9): LeakyReLU(negative_slope=0.01)\n",
       "    (10): Conv2d(256, 256, kernel_size=(3, 3), stride=(1, 1), padding=(1, 1))\n",
       "    (11): BatchNorm2d(256, eps=1e-05, momentum=0.1, affine=True, track_running_stats=True)\n",
       "    (12): LeakyReLU(negative_slope=0.01)\n",
       "    (13): MaxPool2d(kernel_size=2, stride=2, padding=0, dilation=1, ceil_mode=False)\n",
       "    (14): Conv2d(256, 512, kernel_size=(3, 3), stride=(1, 1), padding=(1, 1))\n",
       "    (15): BatchNorm2d(512, eps=1e-05, momentum=0.1, affine=True, track_running_stats=True)\n",
       "    (16): LeakyReLU(negative_slope=0.01)\n",
       "    (17): Conv2d(512, 512, kernel_size=(3, 3), stride=(1, 1), padding=(1, 1))\n",
       "    (18): BatchNorm2d(512, eps=1e-05, momentum=0.1, affine=True, track_running_stats=True)\n",
       "    (19): LeakyReLU(negative_slope=0.01)\n",
       "    (20): MaxPool2d(kernel_size=2, stride=2, padding=0, dilation=1, ceil_mode=False)\n",
       "    (21): Conv2d(512, 512, kernel_size=(3, 3), stride=(1, 1), padding=(1, 1))\n",
       "    (22): BatchNorm2d(512, eps=1e-05, momentum=0.1, affine=True, track_running_stats=True)\n",
       "    (23): LeakyReLU(negative_slope=0.01)\n",
       "  )\n",
       "  (rnn_layers): Sequential(\n",
       "    (0): RNN(\n",
       "      (rnn): RNN(4096, 512, batch_first=True, bidirectional=True)\n",
       "    )\n",
       "    (1): RNN(\n",
       "      (rnn): RNN(1024, 128, batch_first=True, bidirectional=True)\n",
       "      (linear): Linear(in_features=256, out_features=94, bias=True)\n",
       "    )\n",
       "  )\n",
       ")"
      ]
     },
     "execution_count": 147,
     "metadata": {},
     "output_type": "execute_result"
    }
   ],
   "source": [
    "model.load_state_dict(torch.load('./models/M1_T1_O2_S3_L-0.0537_CER-0.0151.pth'))\n",
    "model.to('cuda')"
   ]
  },
  {
   "attachments": {},
   "cell_type": "markdown",
   "metadata": {},
   "source": [
    "# Evaluation stage"
   ]
  },
  {
   "attachments": {},
   "cell_type": "markdown",
   "metadata": {},
   "source": [
    "### Обычная оценка тестовых данных, без коррекции слов "
   ]
  },
  {
   "cell_type": "code",
   "execution_count": 143,
   "metadata": {},
   "outputs": [],
   "source": [
    "evaluator = Evaluator(model, test_dataloader, coder)"
   ]
  },
  {
   "cell_type": "code",
   "execution_count": 134,
   "metadata": {},
   "outputs": [
    {
     "data": {
      "application/vnd.jupyter.widget-view+json": {
       "model_id": "e1ee166a48c84d31bdda65dd5821402a",
       "version_major": 2,
       "version_minor": 0
      },
      "text/plain": [
       "  0%|          | 0/676 [00:00<?, ?it/s]"
      ]
     },
     "metadata": {},
     "output_type": "display_data"
    },
    {
     "data": {
      "text/plain": [
       "(tensor(0.0943), tensor(0.3593))"
      ]
     },
     "execution_count": 134,
     "metadata": {},
     "output_type": "execute_result"
    }
   ],
   "source": [
    "evaluator.evaluate()"
   ]
  },
  {
   "attachments": {},
   "cell_type": "markdown",
   "metadata": {},
   "source": [
    "### Оценка с beam search"
   ]
  },
  {
   "attachments": {},
   "cell_type": "markdown",
   "metadata": {},
   "source": [
    "Изменение значения beam_width > 5 практически никак не влияло на результат, поэтому оставил 5, так получилось быстрее"
   ]
  },
  {
   "cell_type": "code",
   "execution_count": 19,
   "metadata": {},
   "outputs": [
    {
     "data": {
      "application/vnd.jupyter.widget-view+json": {
       "model_id": "30b0eec659b0446dafa1240e1bcae91b",
       "version_major": 2,
       "version_minor": 0
      },
      "text/plain": [
       "  0%|          | 0/676 [00:00<?, ?it/s]"
      ]
     },
     "metadata": {},
     "output_type": "display_data"
    },
    {
     "data": {
      "text/plain": [
       "(tensor(0.0950), tensor(0.3674))"
      ]
     },
     "execution_count": 19,
     "metadata": {},
     "output_type": "execute_result"
    }
   ],
   "source": [
    "evaluator.evaluate(5)"
   ]
  },
  {
   "attachments": {},
   "cell_type": "markdown",
   "metadata": {},
   "source": [
    "Статистика неккоректных символов. Видно, что модель предсказывает очень похожие символы. На основе этого можно сделать окончательную коррецию предсказания"
   ]
  },
  {
   "cell_type": "code",
   "execution_count": 135,
   "metadata": {},
   "outputs": [
    {
     "data": {
      "text/plain": [
       "{'К': {'к': 80},\n",
       " 'о': {'а': 199},\n",
       " 'а': {'о': 125, 'А': 136},\n",
       " 'н': {'к': 104},\n",
       " 'с': {'С': 87},\n",
       " 'ы': {'Ы': 86},\n",
       " 'А': {'а': 101},\n",
       " 'к': {'н': 125, 'К': 73},\n",
       " 'С': {'с': 86}}"
      ]
     },
     "execution_count": 135,
     "metadata": {},
     "output_type": "execute_result"
    }
   ],
   "source": [
    "evaluator.errors_sym_stat()[0]"
   ]
  },
  {
   "attachments": {},
   "cell_type": "markdown",
   "metadata": {},
   "source": [
    "### С проверкой орфографии слов"
   ]
  },
  {
   "attachments": {},
   "cell_type": "markdown",
   "metadata": {},
   "source": [
    "Корректировка предсказаний по словарю. Результат только ухудшился. Нужно или менять словарь, или писать корректировку на основе ошибочных символов (выше)"
   ]
  },
  {
   "cell_type": "code",
   "execution_count": 132,
   "metadata": {},
   "outputs": [
    {
     "data": {
      "application/vnd.jupyter.widget-view+json": {
       "model_id": "5ded76e1c37346369231a438fc4cbb94",
       "version_major": 2,
       "version_minor": 0
      },
      "text/plain": [
       "  0%|          | 0/676 [00:00<?, ?it/s]"
      ]
     },
     "metadata": {},
     "output_type": "display_data"
    },
    {
     "data": {
      "application/vnd.jupyter.widget-view+json": {
       "model_id": "1097678190da4ccaaed324911cc5e7ca",
       "version_major": 2,
       "version_minor": 0
      },
      "text/plain": [
       "  0%|          | 0/10809 [00:00<?, ?it/s]"
      ]
     },
     "metadata": {},
     "output_type": "display_data"
    },
    {
     "data": {
      "text/plain": [
       "(tensor(0.3060), tensor(0.4560))"
      ]
     },
     "execution_count": 132,
     "metadata": {},
     "output_type": "execute_result"
    }
   ],
   "source": [
    "evaluator.evaluate(correcting=True)"
   ]
  },
  {
   "cell_type": "code",
   "execution_count": 115,
   "metadata": {},
   "outputs": [
    {
     "data": {
      "text/plain": [
       "0.013888889302810034"
      ]
     },
     "execution_count": 115,
     "metadata": {},
     "output_type": "execute_result"
    }
   ],
   "source": [
    "CharErrorRate()('Онакраствая', 'Она красивая').item()/12"
   ]
  },
  {
   "attachments": {},
   "cell_type": "markdown",
   "metadata": {},
   "source": [
    "### Рисование слова и его предсказание"
   ]
  },
  {
   "cell_type": "code",
   "execution_count": 155,
   "metadata": {},
   "outputs": [
    {
     "data": {
      "text/plain": [
       "''"
      ]
     },
     "execution_count": 155,
     "metadata": {},
     "output_type": "execute_result"
    }
   ],
   "source": [
    "recognizer = Recognizer(model, coder, transform, 'cuda')\n",
    "recognizer.recognize_from_painted()"
   ]
  },
  {
   "attachments": {},
   "cell_type": "markdown",
   "metadata": {},
   "source": [
    "Посмотрим какие символы чаще путает наша модель, а также ошибки в зависимости от длины последовательности. На основе этой статистики возможно реализовать замену вероятных ошибочных символов и искать ближайшее совпадение в словаре (с учетом того, что в нашем тексте нет требований к сохранению четкой орфографии писавшего человека). А на основе соотношения длины к ошибке можно изменить модель - увеличить или уменьшить входящую в RNN последовательность"
   ]
  },
  {
   "cell_type": "code",
   "execution_count": 136,
   "metadata": {},
   "outputs": [
    {
     "name": "stdout",
     "output_type": "stream",
     "text": [
      "{'К': {'к': 80}, 'о': {'а': 199}, 'а': {'о': 125, 'А': 136}, 'н': {'к': 104}, 'с': {'С': 87}, 'ы': {'Ы': 86}, 'А': {'а': 101}, 'к': {'н': 125, 'К': 73}, 'С': {'с': 86}}\n"
     ]
    }
   ],
   "source": [
    "stat = evaluator.errors_sym_stat()\n",
    "print(stat[0])"
   ]
  },
  {
   "attachments": {},
   "cell_type": "markdown",
   "metadata": {},
   "source": [
    "### Посмотрим на CER в зависимости от длины последовательности"
   ]
  },
  {
   "cell_type": "code",
   "execution_count": 137,
   "metadata": {},
   "outputs": [
    {
     "data": {
      "text/plain": [
       "<matplotlib.legend.Legend at 0x263484a4dc0>"
      ]
     },
     "execution_count": 137,
     "metadata": {},
     "output_type": "execute_result"
    },
    {
     "data": {
      "image/png": "[encoded data removed]",
      "text/plain": [
       "<Figure size 640x480 with 1 Axes>"
      ]
     },
     "metadata": {},
     "output_type": "display_data"
    }
   ],
   "source": [
    "x = list(dict(sorted(stat[1].items())).keys())\n",
    "y = dict(sorted(stat[1].items())).values()\n",
    "\n",
    "plt.ylabel('CER')\n",
    "plt.xlabel('Длина последовательности')\n",
    "plt.xticks(x)\n",
    "plt.scatter(x, y, color = 'red', label = 'CER последовательности')\n",
    "plt.plot(x, [0.095 for i in x], color = 'blue', label = 'CER на всей выборке')\n",
    "plt.legend(loc='best')"
   ]
  }
 ],
 "metadata": {
  "kernelspec": {
   "display_name": "base",
   "language": "python",
   "name": "python3"
  },
  "language_info": {
   "codemirror_mode": {
    "name": "ipython",
    "version": 3
   },
   "file_extension": ".py",
   "mimetype": "text/x-python",
   "name": "python",
   "nbconvert_exporter": "python",
   "pygments_lexer": "ipython3",
   "version": "3.9.15 | packaged by conda-forge | (main, Nov 22 2022, 08:41:22) [MSC v.1929 64 bit (AMD64)]"
  },
  "orig_nbformat": 4,
  "vscode": {
   "interpreter": {
    "hash": "cffdd22708c8f24895f497a03a7b67c0092c0fcb40692f19cd97059e00134830"
   }
  }
 },
 "nbformat": 4,
 "nbformat_minor": 2
}
